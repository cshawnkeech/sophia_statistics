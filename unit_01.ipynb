{
 "cells": [
  {
   "cell_type": "markdown",
   "metadata": {},
   "source": [
    "# Unit 1\n"
   ]
  },
  {
   "cell_type": "markdown",
   "metadata": {},
   "source": [
    "## 1.4.4 Absolute Change and Relative Change\n",
    "\n",
    "Absolute change is the absolute change in units.\n",
    "\n",
    "Relative change is the percent difference from the previous value and is always expressed as a percent.\n",
    "\n",
    "Relative change can also be referred to as the percent error.\n"
   ]
  },
  {
   "cell_type": "markdown",
   "metadata": {},
   "source": [
    "Relative change: absolute change / initial value\n"
   ]
  },
  {
   "cell_type": "code",
   "execution_count": 2,
   "metadata": {},
   "outputs": [
    {
     "name": "stdout",
     "output_type": "stream",
     "text": [
      "-266\n",
      "-0.0581039755351682\n"
     ]
    }
   ],
   "source": [
    "old = 4_578\n",
    "new = 4_312\n",
    "\n",
    "absolute = new - old\n",
    "relative = absolute / old\n",
    "\n",
    "print(absolute, relative, sep=\"\\n\")"
   ]
  },
  {
   "cell_type": "code",
   "execution_count": 6,
   "metadata": {},
   "outputs": [
    {
     "name": "stdout",
     "output_type": "stream",
     "text": [
      "0.24000000000000002\n",
      "6.0\n"
     ]
    }
   ],
   "source": [
    "old = 0.04\n",
    "new = 0.28\n",
    "\n",
    "absolute = new - old\n",
    "relative = absolute / old\n",
    "\n",
    "print(absolute, relative, sep=\"\\n\")"
   ]
  },
  {
   "cell_type": "markdown",
   "metadata": {},
   "source": [
    "## 1.4.5\n"
   ]
  },
  {
   "cell_type": "markdown",
   "metadata": {},
   "source": [
    "Percentage points vs. percent\n",
    "\n",
    "Percents are used to describe the relative change. Percentage points are used to measure absolute change.\n",
    "\n",
    "Absolute = new - old\n",
    "relative = absolute / old\n"
   ]
  },
  {
   "cell_type": "code",
   "execution_count": 3,
   "metadata": {},
   "outputs": [
    {
     "name": "stdout",
     "output_type": "stream",
     "text": [
      "-0.09999999999999998\n",
      "-0.19999999999999996\n"
     ]
    }
   ],
   "source": [
    "old = 0.50\n",
    "new = 0.40\n",
    "\n",
    "absolute = new - old\n",
    "relative = absolute / old\n",
    "\n",
    "print(absolute, relative, sep=\"\\n\")"
   ]
  },
  {
   "cell_type": "markdown",
   "metadata": {},
   "source": [
    "## 1.4.6\n",
    "\n",
    "Index numbers and reference values\n",
    "\n",
    "index number = new value / reference value \\* 100\n",
    "\n",
    "reference value: set an arbitrary starting point in time. assign that (typically price) a value of 100.\n"
   ]
  },
  {
   "cell_type": "markdown",
   "metadata": {},
   "source": [
    "## 1.5.1\n",
    "\n",
    "Evaluating studies: Bias\n",
    "\n",
    "Bias: misrepresenting the population. Favoring certain outcomes limits the ability to draw conclusions about the population. Biased data can often favor a specific group of those studied.\n",
    "\n",
    "Selection bias: selecting a sample in such a way that certain subsets of the population are systematically excluded\n",
    "\n",
    "Publication bias: the desire of researchers and publications to only print the most sensational or interesting articles.\n",
    "\n",
    "Hawthorn effect: people behave differently if they know that they are under observation.\n",
    "\n",
    "participation (voluntary response) bias: when sample consists entirely of volunteers. people with strong opinions may be the only ones who volunteer.\n",
    "\n",
    "Response bias: respondent tells the interviewer what they want to hear or les due to the sensitive nature of the question.\n"
   ]
  },
  {
   "cell_type": "markdown",
   "metadata": {},
   "source": [
    "## 1.5.2\n",
    "\n",
    "Non-response bias: someone selected for the sample either can't be contacted or\n",
    "is unwilling to participate. if these people are substantially different than\n",
    "respondents, your sample will not reflect the true population\n",
    "\n",
    "participation bias: occurs when participation is voluntary. people who feel\n",
    "strongly may be the only participants.\n",
    "\n",
    "response bias: when people's answers are influenced. question can be worded\n",
    "poorly (so certain responses are over represented), confusing, or be suggestive\n",
    "of a 'correct' response. The topic could also be very sensitive (drugs, criminal\n",
    "history, sexual behavior, racial prejudice, income)\n"
   ]
  },
  {
   "cell_type": "markdown",
   "metadata": {},
   "source": [
    "## 1.5.3\n",
    "\n",
    "Selection and Deliberate bias\n",
    "\n",
    "selection bias: a bias that results from systematically excluding certain subsets of the population from the sample. it is not necessarily intentional\n",
    "\n",
    "random digit dialing: a method of contacting people on the phone. random numbers are dialed, so this allows researchers to sample people with unlisted phone numbers\n",
    "\n",
    "deliberate bias: purposeful misrepresentation of data for the purpose of advancing an agenda\n",
    "\n",
    "unintentional bias: bias that is not purposeful. exists because of errors in the design of the study.\n"
   ]
  },
  {
   "cell_type": "markdown",
   "metadata": {},
   "source": [
    "## 1.5.4\n",
    "\n",
    "if you ask everyone, that's a census, not a sample.\n",
    "\n",
    "Representative samples: a sample that accurately represents the population\n",
    "\n",
    "Non-Representative samples\n",
    "\n",
    "Convenience samples: a sample that is easily obtained\n",
    "\n",
    "self-selected samples: a sample that the participants choose to be a part of\n"
   ]
  },
  {
   "cell_type": "markdown",
   "metadata": {},
   "source": [
    "## 1.5.5\n",
    "\n",
    "random errors: when the resulting value obtained from the sample does not match the value from the population simply by chance. This is not a mistake, but inherent in the variability in sampling.\n",
    "\n",
    "systemic errors: When the resulting value obtained from the sample does not match the value from the population as a result of incorrect measurement or bias. this is a mistake made by the researchers.\n",
    "\n",
    "selection bias: occurs when certain groups are systematically left out of the sample. this is a systematic error.\n"
   ]
  },
  {
   "cell_type": "code",
   "execution_count": 4,
   "metadata": {},
   "outputs": [
    {
     "data": {
      "text/plain": [
       "49"
      ]
     },
     "execution_count": 4,
     "metadata": {},
     "output_type": "execute_result"
    }
   ],
   "source": [
    "63-14"
   ]
  },
  {
   "cell_type": "code",
   "execution_count": 5,
   "metadata": {},
   "outputs": [
    {
     "data": {
      "text/plain": [
       "0.041666666666666664"
      ]
     },
     "execution_count": 5,
     "metadata": {},
     "output_type": "execute_result"
    }
   ],
   "source": [
    "(125-120) / 120"
   ]
  },
  {
   "cell_type": "code",
   "execution_count": null,
   "metadata": {},
   "outputs": [],
   "source": []
  }
 ],
 "metadata": {
  "kernelspec": {
   "display_name": "base_rise",
   "language": "python",
   "name": "python3"
  },
  "language_info": {
   "codemirror_mode": {
    "name": "ipython",
    "version": 3
   },
   "file_extension": ".py",
   "mimetype": "text/x-python",
   "name": "python",
   "nbconvert_exporter": "python",
   "pygments_lexer": "ipython3",
   "version": "3.11.4"
  }
 },
 "nbformat": 4,
 "nbformat_minor": 2
}
