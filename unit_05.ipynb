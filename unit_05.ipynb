{
 "cells": [
  {
   "cell_type": "markdown",
   "metadata": {},
   "source": [
    "# Unit 5\n"
   ]
  },
  {
   "cell_type": "code",
   "execution_count": 33,
   "metadata": {},
   "outputs": [],
   "source": [
    "import numpy as np\n",
    "\n",
    "import matplotlib.pyplot as plt\n",
    "from scipy.stats import (\n",
    "    geom,\n",
    "    percentileofscore,\n",
    "    poisson,\n",
    "    norm)\n",
    "from itertools import (\n",
    "    combinations\n",
    ")\n",
    "\n",
    "from math import (\n",
    "    sqrt\n",
    ")\n",
    "\n",
    "from fractions import Fraction\n",
    "from sklearn.linear_model import LinearRegression"
   ]
  },
  {
   "cell_type": "markdown",
   "metadata": {},
   "source": [
    "## 5.1.2\n",
    "\n",
    "Population symbols\n",
    "\n",
    "- proportion = $p$\n",
    "- mean = $\\mu$\n",
    "  -standard deviation = $\\sigma$\n",
    "\n",
    "Sample\n",
    "\n",
    "- Proportion = $\\hat p$\n",
    "- mean = $\\bar x$\n",
    "- standard deviation = $ s $\n"
   ]
  },
  {
   "cell_type": "markdown",
   "metadata": {},
   "source": [
    "## 5.1.3 Sampling with or without replacement\n",
    "\n",
    "For independence, a large population is going to be at least 10 times\n",
    "larger than the sample.\n",
    "\n",
    "$$\n",
    "\\text{Population} \\ge 10 \\cdot n \\\\\n",
    "\\text{where n is sample size}\n",
    "$$\n",
    "\n",
    "If that's the case, then you're going to say that the probabilities don't\n",
    "shift very much when you sample \"n\" items from the population. Therefore,\n",
    "you can treat the sampling as being almost independent.\n",
    "\n",
    "Sampling without Replacement:\n",
    "\n",
    "A sampling plan where each\n",
    "observation that is sampled is kept out of subsequent selections,\n",
    "resulting in a sample where each observation can be selected no more than\n",
    "one time.\n"
   ]
  },
  {
   "cell_type": "markdown",
   "metadata": {},
   "source": [
    "## 5.1.4 Sampling error\n",
    "\n",
    "sample error decreases as sample size increases\n"
   ]
  },
  {
   "cell_type": "markdown",
   "metadata": {},
   "source": [
    "## 5.1.5 Distribution of sample means\n",
    "\n",
    "mean of a sampling distribution of sample means\n",
    "\n",
    "$ \\mu*{\\bar x} = \\mu*{\\text{population}} $\n",
    "\n",
    "standard deviation of a sampling distribution of sample means\n",
    "\n",
    "$ \\sigma*{\\bar x} = \\frac{\\sigma*{population}}{\\sqrt(n)}$\n",
    "\n",
    "Central Limit Theorem: If the sample size is large enough (generally $ n\n",
    "\\ge 30$), and the std dev fo the population is finite, then the\n",
    "distribution of the sample means will be approximately normal\n"
   ]
  },
  {
   "cell_type": "markdown",
   "metadata": {},
   "source": [
    "## Distribution of sample proportions\n",
    "\n",
    "mean of a distribution of sample proportions\n",
    "\n",
    "$ \\mu\\_{\\hat p} = p $\n",
    "\n",
    "standard deviation of a distribution of sample proportions $\n",
    "\\sigma\\_{\\hat p} = sqrt(\\frac{pq}{n}) $\n",
    "\n",
    "p = probability of success q = probability of failure (1-p)\n",
    "\n",
    "for inference these conditions must be true:\n",
    "\n",
    "$ n \\cdot p \\ge 10 $ and $ n \\cdot q \\ge 10 $\n",
    "\n",
    "shape is going to look like a binomial distribution: skewed left when p\n",
    "is high and sample size is low, skewed right when p is low and sample\n",
    "size is low, approximately normal when sample size is high.\n"
   ]
  },
  {
   "cell_type": "markdown",
   "metadata": {},
   "source": [
    "## 5.2.3 Errors\n",
    "\n",
    "Type I error:\n",
    "an error when a true null hypothesis is rejected\n",
    "\n",
    "Type II error:\n",
    "when a false null hypothesis is not rejected\n"
   ]
  },
  {
   "cell_type": "markdown",
   "metadata": {},
   "source": [
    "## 5.2.4\n",
    "\n",
    "Power indicates sensitivity or the ability to detect a difference that is\n",
    "present.\n",
    "\n",
    "alpha is equal to the probability of making a type 1 error (rejecting\n",
    "when we shouldn't)\n"
   ]
  },
  {
   "cell_type": "markdown",
   "metadata": {},
   "source": [
    "## 5.2.5\n",
    "\n",
    "right tailed: looking for value higher than null\n",
    "\n",
    "left tailed: looking for value lower than null\n",
    "\n",
    "two-tailed: looking for value different than null (higher or lower)\n"
   ]
  },
  {
   "cell_type": "markdown",
   "metadata": {},
   "source": [
    "## 5.2.7\n",
    "\n",
    "Chi-squared test for association/independence:\n",
    "\n",
    "ex: does gender affect whether or not someone likes apple, orange or\n",
    "banana?\n"
   ]
  },
  {
   "cell_type": "code",
   "execution_count": 34,
   "metadata": {},
   "outputs": [
    {
     "data": {
      "text/plain": [
       "0.05804156686932752"
      ]
     },
     "execution_count": 34,
     "metadata": {},
     "output_type": "execute_result"
    }
   ],
   "source": [
    "norm(loc=122, scale=35).cdf(67)"
   ]
  },
  {
   "cell_type": "markdown",
   "metadata": {},
   "source": [
    "## 5.3.2z-test for population means\n",
    "\n",
    "$$\n",
    "\n",
    "z = \\frac{\\bar x - \\mu}\n",
    "         {{\\frac{\\sigma}{\\sqrt{n}}}}\n",
    "\n",
    "\n",
    "$$\n"
   ]
  },
  {
   "cell_type": "code",
   "execution_count": 35,
   "metadata": {},
   "outputs": [
    {
     "data": {
      "text/plain": [
       "-3.319700011034927"
      ]
     },
     "execution_count": 35,
     "metadata": {},
     "output_type": "execute_result"
    }
   ],
   "source": [
    "mu = 7.5\n",
    "sigma = 0.7\n",
    "n = 60\n",
    "x_bar = 7.2\n",
    "\n",
    "num = x_bar - mu\n",
    "denom = sigma / sqrt(n)\n",
    "\n",
    "num / denom"
   ]
  },
  {
   "cell_type": "markdown",
   "metadata": {},
   "source": [
    "## 5.3.3\n",
    "\n",
    "z test population proportions\n",
    "\n",
    "$$\n",
    "z = \\frac{\\hat p - p}\n",
    "         {\\sqrt{\\frac{pq}{n}}}\n",
    "$$\n"
   ]
  },
  {
   "cell_type": "code",
   "execution_count": 36,
   "metadata": {},
   "outputs": [
    {
     "data": {
      "text/plain": [
       "0.6063390625908296"
      ]
     },
     "execution_count": 36,
     "metadata": {},
     "output_type": "execute_result"
    }
   ],
   "source": [
    "n = 200\n",
    "p_hat = 140 / n\n",
    "p = 0.68\n",
    "q = 1 - p\n",
    "\n",
    "num = p_hat - p\n",
    "denom = sqrt(p*q / n)\n",
    "num/denom"
   ]
  },
  {
   "cell_type": "markdown",
   "metadata": {},
   "source": [
    "## 5.3.4\n",
    "\n",
    "Find critical z value\n",
    "\n",
    "just use standard normal distribution and ppf\n"
   ]
  },
  {
   "cell_type": "code",
   "execution_count": 37,
   "metadata": {},
   "outputs": [
    {
     "data": {
      "text/plain": [
       "-1.6448536269514729"
      ]
     },
     "execution_count": 37,
     "metadata": {},
     "output_type": "execute_result"
    }
   ],
   "source": [
    "# critical value for left-tailed with alpha of 0.05\n",
    "# less than this value\n",
    "norm.ppf(0.05)"
   ]
  },
  {
   "cell_type": "code",
   "execution_count": 38,
   "metadata": {},
   "outputs": [
    {
     "data": {
      "text/plain": [
       "1.3407550336902165"
      ]
     },
     "execution_count": 38,
     "metadata": {},
     "output_type": "execute_result"
    }
   ],
   "source": [
    "# critical for right-tailed with 0.09 alpha\n",
    "norm().ppf(1 - .09)"
   ]
  },
  {
   "cell_type": "code",
   "execution_count": 39,
   "metadata": {},
   "outputs": [
    {
     "data": {
      "text/plain": [
       "1.959963984540054"
      ]
     },
     "execution_count": 39,
     "metadata": {},
     "output_type": "execute_result"
    }
   ],
   "source": [
    "# two tailed with a 0.05 alpha\n",
    "# remember to split the tail\n",
    "norm.ppf(1 - 0.05/2)  # more extreme than plus or minus this value"
   ]
  },
  {
   "cell_type": "markdown",
   "metadata": {},
   "source": [
    "## 5.3.5 find a p-value from a z-test statistic\n",
    "\n",
    "use norm.cdf or norm.sf\n",
    "\n",
    "- [find a p-value from z-score](https://www.tutorialspoint.com/how-to-find-a-p-value-from-a-z-score-in-python#:~:text=The%20p%2Dvalue%20for%20a%20z,a%20standard%20normal%20random%20variable.)\n"
   ]
  },
  {
   "cell_type": "code",
   "execution_count": 40,
   "metadata": {},
   "outputs": [
    {
     "data": {
      "text/plain": [
       "0.003071959218650488"
      ]
     },
     "execution_count": 40,
     "metadata": {},
     "output_type": "execute_result"
    }
   ],
   "source": [
    "# left tailed test\n",
    "norm().cdf(-2.74)"
   ]
  },
  {
   "cell_type": "markdown",
   "metadata": {},
   "source": [
    "## 5.3.6 confidence intervals\n",
    "\n",
    "use `norm().ppf\n"
   ]
  },
  {
   "cell_type": "code",
   "execution_count": 41,
   "metadata": {},
   "outputs": [
    {
     "data": {
      "text/plain": [
       "2.5758293035489004"
      ]
     },
     "execution_count": 41,
     "metadata": {},
     "output_type": "execute_result"
    }
   ],
   "source": [
    "norm().ppf(1 - .01/2)"
   ]
  },
  {
   "cell_type": "markdown",
   "metadata": {},
   "source": [
    "## 5.3.7 Calculating the confidence interval for population proportion\n",
    "\n",
    "- [5.3.7](https://app.sophia.org/spcc/introduction-to-statistics-2-challenge-5-3/7/7595/confidence-interval-for-population-proportion-2)\n",
    "\n",
    "$$\n",
    "\n",
    "CI = \\hat p \\pm z * \\sqrt{\\frac{\\hat p \\hat q}{n}}\n",
    "$$\n"
   ]
  },
  {
   "cell_type": "code",
   "execution_count": 42,
   "metadata": {},
   "outputs": [
    {
     "data": {
      "text/plain": [
       "(0.20858372631813238, 0.2714162736818676)"
      ]
     },
     "execution_count": 42,
     "metadata": {},
     "output_type": "execute_result"
    }
   ],
   "source": [
    "p_hat = 120 / 500\n",
    "q_hat = 1 - p_hat\n",
    "n = 500\n",
    "# for 90% confidence interval\n",
    "z = norm().ppf(1 - .10/2)\n",
    "\n",
    "\n",
    "def ci(p_hat, q_hat, n, z):\n",
    "\n",
    "    spread = z * sqrt((p_hat * q_hat) / n)\n",
    "\n",
    "    return (p_hat - spread, p_hat + spread)\n",
    "\n",
    "\n",
    "ci(p_hat, q_hat, n, z)"
   ]
  },
  {
   "cell_type": "markdown",
   "metadata": {},
   "source": [
    "## Standard error of a sample proportion\n",
    "\n",
    "sample proportion when population std dev is unknown\n",
    "\n",
    "$$\n",
    "\\sqrt{\\frac{\\hat p \\hat q}{n}}\n",
    "$$\n",
    "\n",
    "- $\\hat p = $ sample proportion of success\n",
    "- $\\hat q = $ compliment of $\\hat p$\n",
    "- n = sample size\n",
    "\n",
    "Remember:\n",
    "sample means: $ \\frac{s}{\\sqrt n}$\n",
    "\n",
    "Sample proportion when population std dev is known\n",
    "\n",
    "$$\n",
    "\\sqrt{\\frac{p q}{n}}\n",
    "$$\n"
   ]
  },
  {
   "cell_type": "code",
   "execution_count": 43,
   "metadata": {},
   "outputs": [
    {
     "data": {
      "text/plain": [
       "0.03380359319930459"
      ]
     },
     "execution_count": 43,
     "metadata": {},
     "output_type": "execute_result"
    }
   ],
   "source": [
    "n = 186\n",
    "p = 57 / n\n",
    "q = 1 - p\n",
    "\n",
    "sqrt(p*q / n)"
   ]
  },
  {
   "cell_type": "markdown",
   "metadata": {},
   "source": [
    "## 5.4.1 T-tests\n",
    "\n",
    "when population standard deviation is not known, use t-statistic. same as\n",
    "z but replaces population standard deviation with sample standard\n",
    "deviation.\n",
    "\n",
    "$$\n",
    "\n",
    "z = \\frac{\\bar x - \\mu}\n",
    "         {{\\frac{s}{\\sqrt{n}}}}\n",
    "\n",
    "\n",
    "$$\n",
    "\n",
    "remember: standard error = $\\frac{s}{\\sqrt{n}}$\n"
   ]
  },
  {
   "cell_type": "markdown",
   "metadata": {},
   "source": [
    "t distribution is usually a little flatter and with a little more spread.\n",
    "\n",
    "degrees of freedom: sample sze - 1\n",
    "\n",
    "independence: population at least 10 times as large as the sample\n"
   ]
  },
  {
   "cell_type": "markdown",
   "metadata": {},
   "source": [
    "## 5.4.2 Calculate T-Test statistic\n"
   ]
  },
  {
   "cell_type": "code",
   "execution_count": 44,
   "metadata": {},
   "outputs": [
    {
     "data": {
      "text/plain": [
       "-4.42194527329319"
      ]
     },
     "execution_count": 44,
     "metadata": {},
     "output_type": "execute_result"
    }
   ],
   "source": [
    "n = 101\n",
    "x_bar = 6.9\n",
    "s = 2.5\n",
    "mu = 8\n",
    "\n",
    "(x_bar - mu) / (s/sqrt(n))"
   ]
  },
  {
   "cell_type": "markdown",
   "metadata": {},
   "source": [
    "## 5.4.3 critical t value\n"
   ]
  },
  {
   "cell_type": "code",
   "execution_count": 48,
   "metadata": {},
   "outputs": [
    {
     "data": {
      "text/plain": [
       "1.701130934265931"
      ]
     },
     "execution_count": 48,
     "metadata": {},
     "output_type": "execute_result"
    }
   ],
   "source": [
    "from scipy.stats import t\n",
    "\n",
    "# two tailed\n",
    "t(df=28).ppf(1 - 0.10/2)"
   ]
  },
  {
   "cell_type": "markdown",
   "metadata": {},
   "source": [
    "## 5.4.4\n",
    "\n",
    "How to find a P-Value from a T-Test statistic\n"
   ]
  },
  {
   "cell_type": "code",
   "execution_count": 59,
   "metadata": {},
   "outputs": [
    {
     "data": {
      "text/plain": [
       "1.7998554107550482"
      ]
     },
     "execution_count": 59,
     "metadata": {},
     "output_type": "execute_result"
    }
   ],
   "source": [
    "# these are going to be a little different.\n",
    "# sophia answers are rounded\n",
    "t(df=29).cdf(1.311) * 2"
   ]
  },
  {
   "cell_type": "code",
   "execution_count": 61,
   "metadata": {},
   "outputs": [
    {
     "data": {
      "text/plain": [
       "0.009580243498838651"
      ]
     },
     "execution_count": 61,
     "metadata": {},
     "output_type": "execute_result"
    }
   ],
   "source": [
    "# left tailed...\n",
    "t(df=15).cdf(-2.624)"
   ]
  },
  {
   "cell_type": "code",
   "execution_count": 64,
   "metadata": {},
   "outputs": [
    {
     "data": {
      "text/plain": [
       "0.050012127821915116"
      ]
     },
     "execution_count": 64,
     "metadata": {},
     "output_type": "execute_result"
    }
   ],
   "source": [
    "# right tailed\n",
    "1 - t(df=19).cdf(1.729)\n",
    "\n",
    "# or\n",
    "t(df=19).sf(1.729)"
   ]
  }
 ],
 "metadata": {
  "kernelspec": {
   "display_name": "base_rise",
   "language": "python",
   "name": "python3"
  },
  "language_info": {
   "codemirror_mode": {
    "name": "ipython",
    "version": 3
   },
   "file_extension": ".py",
   "mimetype": "text/x-python",
   "name": "python",
   "nbconvert_exporter": "python",
   "pygments_lexer": "ipython3",
   "version": "3.11.4"
  }
 },
 "nbformat": 4,
 "nbformat_minor": 2
}
