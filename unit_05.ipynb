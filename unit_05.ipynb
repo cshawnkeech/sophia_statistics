{
 "cells": [
  {
   "cell_type": "markdown",
   "metadata": {},
   "source": [
    "# Unit 5\n"
   ]
  },
  {
   "cell_type": "code",
   "execution_count": 1,
   "metadata": {},
   "outputs": [],
   "source": [
    "import numpy as np\n",
    "\n",
    "import matplotlib.pyplot as plt\n",
    "from scipy.stats import (\n",
    "    binom,\n",
    "    chisquare,\n",
    "    geom,\n",
    "    percentileofscore,\n",
    "    poisson,\n",
    "    norm,\n",
    "    t)\n",
    "from itertools import (\n",
    "    combinations\n",
    ")\n",
    "\n",
    "from math import (\n",
    "    sqrt\n",
    ")\n",
    "\n",
    "from fractions import Fraction\n",
    "from sklearn.linear_model import LinearRegression"
   ]
  },
  {
   "cell_type": "markdown",
   "metadata": {},
   "source": [
    "## 5.1.2\n",
    "\n",
    "Population symbols\n",
    "\n",
    "- proportion = $p$\n",
    "- mean = $\\mu$\n",
    "  -standard deviation = $\\sigma$\n",
    "\n",
    "Sample\n",
    "\n",
    "- Proportion = $\\hat p$\n",
    "- mean = $\\bar x$\n",
    "- standard deviation = $ s $\n"
   ]
  },
  {
   "cell_type": "markdown",
   "metadata": {},
   "source": [
    "## 5.1.3 Sampling with or without replacement\n",
    "\n",
    "For independence, a large population is going to be at least 10 times\n",
    "larger than the sample.\n",
    "\n",
    "$$\n",
    "\\text{Population} \\ge 10 \\cdot n \\\\\n",
    "\\text{where n is sample size}\n",
    "$$\n",
    "\n",
    "If that's the case, then you're going to say that the probabilities don't\n",
    "shift very much when you sample \"n\" items from the population. Therefore,\n",
    "you can treat the sampling as being almost independent.\n",
    "\n",
    "Sampling without Replacement:\n",
    "\n",
    "A sampling plan where each\n",
    "observation that is sampled is kept out of subsequent selections,\n",
    "resulting in a sample where each observation can be selected no more than\n",
    "one time.\n"
   ]
  },
  {
   "cell_type": "markdown",
   "metadata": {},
   "source": [
    "## 5.1.4 Sampling error\n",
    "\n",
    "sample error decreases as sample size increases\n"
   ]
  },
  {
   "cell_type": "markdown",
   "metadata": {},
   "source": [
    "## 5.1.5 Distribution of sample means\n",
    "\n",
    "mean of a sampling distribution of sample means\n",
    "\n",
    "$ \\mu*{\\bar x} = \\mu*{\\text{population}} $\n",
    "\n",
    "standard deviation of a sampling distribution of sample means\n",
    "\n",
    "$ \\sigma*{\\bar x} = \\frac{\\sigma*{population}}{\\sqrt(n)}$\n",
    "\n",
    "Central Limit Theorem: If the sample size is large enough (generally $ n\n",
    "\\ge 30$), and the std dev fo the population is finite, then the\n",
    "distribution of the sample means will be approximately normal\n"
   ]
  },
  {
   "cell_type": "markdown",
   "metadata": {},
   "source": [
    "## Distribution of sample proportions\n",
    "\n",
    "mean of a distribution of sample proportions\n",
    "\n",
    "$ \\mu\\_{\\hat p} = p $\n",
    "\n",
    "standard deviation of a distribution of sample proportions $\n",
    "\\sigma\\_{\\hat p} = sqrt(\\frac{pq}{n}) $\n",
    "\n",
    "p = probability of success q = probability of failure (1-p)\n",
    "\n",
    "for inference these conditions must be true:\n",
    "\n",
    "$ n \\cdot p \\ge 10 $ and $ n \\cdot q \\ge 10 $\n",
    "\n",
    "shape is going to look like a binomial distribution: skewed left when p\n",
    "is high and sample size is low, skewed right when p is low and sample\n",
    "size is low, approximately normal when sample size is high.\n"
   ]
  },
  {
   "cell_type": "markdown",
   "metadata": {},
   "source": [
    "## 5.2.3 Errors\n",
    "\n",
    "Type I error:\n",
    "an error when a true null hypothesis is rejected\n",
    "\n",
    "Type II error:\n",
    "when a false null hypothesis is not rejected\n"
   ]
  },
  {
   "cell_type": "markdown",
   "metadata": {},
   "source": [
    "## 5.2.4\n",
    "\n",
    "Power indicates sensitivity or the ability to detect a difference that is\n",
    "present.\n",
    "\n",
    "alpha is equal to the probability of making a type 1 error (rejecting\n",
    "when we shouldn't)\n"
   ]
  },
  {
   "cell_type": "markdown",
   "metadata": {},
   "source": [
    "## 5.2.5\n",
    "\n",
    "right tailed: looking for value higher than null\n",
    "\n",
    "left tailed: looking for value lower than null\n",
    "\n",
    "two-tailed: looking for value different than null (higher or lower)\n"
   ]
  },
  {
   "cell_type": "markdown",
   "metadata": {},
   "source": [
    "## 5.2.7\n",
    "\n",
    "Chi-squared test for association/independence:\n",
    "\n",
    "ex: does gender affect whether or not someone likes apple, orange or\n",
    "banana?\n"
   ]
  },
  {
   "cell_type": "code",
   "execution_count": 2,
   "metadata": {},
   "outputs": [
    {
     "data": {
      "text/plain": [
       "0.05804156686932752"
      ]
     },
     "execution_count": 2,
     "metadata": {},
     "output_type": "execute_result"
    }
   ],
   "source": [
    "norm(loc=122, scale=35).cdf(67)"
   ]
  },
  {
   "cell_type": "markdown",
   "metadata": {},
   "source": [
    "## 5.3.2z-test for population means\n",
    "\n",
    "$$\n",
    "\n",
    "z = \\frac{\\bar x - \\mu}\n",
    "         {{\\frac{\\sigma}{\\sqrt{n}}}}\n",
    "\n",
    "\n",
    "$$\n"
   ]
  },
  {
   "cell_type": "code",
   "execution_count": 3,
   "metadata": {},
   "outputs": [
    {
     "data": {
      "text/plain": [
       "-3.319700011034927"
      ]
     },
     "execution_count": 3,
     "metadata": {},
     "output_type": "execute_result"
    }
   ],
   "source": [
    "mu = 7.5\n",
    "sigma = 0.7\n",
    "n = 60\n",
    "x_bar = 7.2\n",
    "\n",
    "num = x_bar - mu\n",
    "denom = sigma / sqrt(n)\n",
    "\n",
    "num / denom"
   ]
  },
  {
   "cell_type": "markdown",
   "metadata": {},
   "source": [
    "## 5.3.3\n",
    "\n",
    "z test population proportions\n",
    "\n",
    "$$\n",
    "z = \\frac{\\hat p - p}\n",
    "         {\\sqrt{\\frac{pq}{n}}}\n",
    "$$\n"
   ]
  },
  {
   "cell_type": "code",
   "execution_count": 4,
   "metadata": {},
   "outputs": [
    {
     "data": {
      "text/plain": [
       "0.6063390625908296"
      ]
     },
     "execution_count": 4,
     "metadata": {},
     "output_type": "execute_result"
    }
   ],
   "source": [
    "n = 200\n",
    "p_hat = 140 / n\n",
    "p = 0.68\n",
    "q = 1 - p\n",
    "\n",
    "num = p_hat - p\n",
    "denom = sqrt(p*q / n)\n",
    "num/denom"
   ]
  },
  {
   "cell_type": "code",
   "execution_count": 5,
   "metadata": {},
   "outputs": [],
   "source": [
    "n = 635\n",
    "p_hat = 71 / n"
   ]
  },
  {
   "cell_type": "markdown",
   "metadata": {},
   "source": [
    "## 5.3.4\n",
    "\n",
    "Find critical z value\n",
    "\n",
    "just use standard normal distribution and ppf\n"
   ]
  },
  {
   "cell_type": "code",
   "execution_count": 6,
   "metadata": {},
   "outputs": [
    {
     "data": {
      "text/plain": [
       "-1.6448536269514729"
      ]
     },
     "execution_count": 6,
     "metadata": {},
     "output_type": "execute_result"
    }
   ],
   "source": [
    "# critical value for left-tailed with alpha of 0.05\n",
    "# less than this value\n",
    "norm.ppf(0.05)"
   ]
  },
  {
   "cell_type": "code",
   "execution_count": 7,
   "metadata": {},
   "outputs": [
    {
     "data": {
      "text/plain": [
       "-1.6448536269514729"
      ]
     },
     "execution_count": 7,
     "metadata": {},
     "output_type": "execute_result"
    }
   ],
   "source": [
    "norm.ppf(0.05)"
   ]
  },
  {
   "cell_type": "code",
   "execution_count": 8,
   "metadata": {},
   "outputs": [
    {
     "data": {
      "text/plain": [
       "1.3407550336902165"
      ]
     },
     "execution_count": 8,
     "metadata": {},
     "output_type": "execute_result"
    }
   ],
   "source": [
    "# critical for right-tailed with 0.09 alpha\n",
    "norm().ppf(1 - .09)"
   ]
  },
  {
   "cell_type": "code",
   "execution_count": 9,
   "metadata": {},
   "outputs": [
    {
     "data": {
      "text/plain": [
       "1.959963984540054"
      ]
     },
     "execution_count": 9,
     "metadata": {},
     "output_type": "execute_result"
    }
   ],
   "source": [
    "# two tailed with a 0.05 alpha\n",
    "# remember to split the tail\n",
    "norm.ppf(1 - 0.05/2)  # more extreme than plus or minus this value"
   ]
  },
  {
   "cell_type": "markdown",
   "metadata": {},
   "source": [
    "## 5.3.5 find a p-value from a z-test statistic\n",
    "\n",
    "use norm.cdf or norm.sf\n",
    "\n",
    "- [find a p-value from z-score](https://www.tutorialspoint.com/how-to-find-a-p-value-from-a-z-score-in-python#:~:text=The%20p%2Dvalue%20for%20a%20z,a%20standard%20normal%20random%20variable.)\n"
   ]
  },
  {
   "cell_type": "code",
   "execution_count": 10,
   "metadata": {},
   "outputs": [
    {
     "data": {
      "text/plain": [
       "0.003071959218650488"
      ]
     },
     "execution_count": 10,
     "metadata": {},
     "output_type": "execute_result"
    }
   ],
   "source": [
    "# left tailed test\n",
    "norm().cdf(-2.74)"
   ]
  },
  {
   "cell_type": "markdown",
   "metadata": {},
   "source": [
    "## 5.3.6 confidence intervals\n",
    "\n",
    "use `norm().ppf\n"
   ]
  },
  {
   "cell_type": "code",
   "execution_count": 11,
   "metadata": {},
   "outputs": [
    {
     "data": {
      "text/plain": [
       "2.5758293035489004"
      ]
     },
     "execution_count": 11,
     "metadata": {},
     "output_type": "execute_result"
    }
   ],
   "source": [
    "norm().ppf(1 - .01/2)"
   ]
  },
  {
   "cell_type": "markdown",
   "metadata": {},
   "source": [
    "## 5.3.7 Calculating the confidence interval for population proportion\n",
    "\n",
    "- [5.3.7](https://app.sophia.org/spcc/introduction-to-statistics-2-challenge-5-3/7/7595/confidence-interval-for-population-proportion-2)\n",
    "\n",
    "$$\n",
    "\n",
    "CI = \\hat p \\pm z * \\sqrt{\\frac{\\hat p \\hat q}{n}}\n",
    "$$\n"
   ]
  },
  {
   "cell_type": "code",
   "execution_count": 12,
   "metadata": {},
   "outputs": [
    {
     "data": {
      "text/plain": [
       "(0.20858372631813238, 0.2714162736818676)"
      ]
     },
     "execution_count": 12,
     "metadata": {},
     "output_type": "execute_result"
    }
   ],
   "source": [
    "p_hat = 120 / 500\n",
    "q_hat = 1 - p_hat\n",
    "n = 500\n",
    "# for 90% confidence interval\n",
    "z = norm().ppf(1 - .10/2)\n",
    "\n",
    "\n",
    "def ci(p_hat, q_hat, n, z):\n",
    "\n",
    "    spread = z * sqrt((p_hat * q_hat) / n)\n",
    "\n",
    "    return (p_hat - spread, p_hat + spread)\n",
    "\n",
    "\n",
    "ci(p_hat, q_hat, n, z)"
   ]
  },
  {
   "cell_type": "code",
   "execution_count": 13,
   "metadata": {},
   "outputs": [
    {
     "data": {
      "text/plain": [
       "0.012505703808498162"
      ]
     },
     "execution_count": 13,
     "metadata": {},
     "output_type": "execute_result"
    }
   ],
   "source": [
    "n = 635\n",
    "p = 71/635\n",
    "q = 1 - p\n",
    "\n",
    "sqrt(p*q/n)"
   ]
  },
  {
   "cell_type": "code",
   "execution_count": null,
   "metadata": {},
   "outputs": [],
   "source": []
  },
  {
   "cell_type": "markdown",
   "metadata": {},
   "source": [
    "## Standard error of a sample proportion\n",
    "\n",
    "sample proportion when population std dev is unknown\n",
    "\n",
    "$$\n",
    "\\sqrt{\\frac{\\hat p \\hat q}{n}}\n",
    "$$\n",
    "\n",
    "- $\\hat p = $ sample proportion of success\n",
    "- $\\hat q = $ compliment of $\\hat p$\n",
    "- n = sample size\n",
    "\n",
    "Remember:\n",
    "sample means: $ \\frac{s}{\\sqrt n}$\n",
    "\n",
    "Sample proportion when population std dev is known\n",
    "\n",
    "$$\n",
    "\\sqrt{\\frac{p q}{n}}\n",
    "$$\n"
   ]
  },
  {
   "cell_type": "code",
   "execution_count": 14,
   "metadata": {},
   "outputs": [
    {
     "data": {
      "text/plain": [
       "0.03380359319930459"
      ]
     },
     "execution_count": 14,
     "metadata": {},
     "output_type": "execute_result"
    }
   ],
   "source": [
    "n = 186\n",
    "p = 57 / n\n",
    "q = 1 - p\n",
    "\n",
    "sqrt(p*q / n)"
   ]
  },
  {
   "cell_type": "markdown",
   "metadata": {},
   "source": [
    "## 5.4.1 T-tests\n",
    "\n",
    "when population standard deviation is not known, use t-statistic. same as\n",
    "z but replaces population standard deviation with sample standard\n",
    "deviation.\n",
    "\n",
    "$$\n",
    "\n",
    "z = \\frac{\\bar x - \\mu}\n",
    "         {{\\frac{s}{\\sqrt{n}}}}\n",
    "\n",
    "\n",
    "$$\n",
    "\n",
    "remember: standard error = $\\frac{s}{\\sqrt{n}}$\n"
   ]
  },
  {
   "cell_type": "code",
   "execution_count": 15,
   "metadata": {},
   "outputs": [
    {
     "data": {
      "text/plain": [
       "46.56045901927967"
      ]
     },
     "execution_count": 15,
     "metadata": {},
     "output_type": "execute_result"
    }
   ],
   "source": [
    "s = 635\n",
    "\n",
    "s/sqrt(n)"
   ]
  },
  {
   "cell_type": "markdown",
   "metadata": {},
   "source": [
    "t distribution is usually a little flatter and with a little more spread.\n",
    "\n",
    "degrees of freedom: sample sze - 1\n",
    "\n",
    "independence: population at least 10 times as large as the sample\n"
   ]
  },
  {
   "cell_type": "code",
   "execution_count": 16,
   "metadata": {},
   "outputs": [
    {
     "data": {
      "text/plain": [
       "0.5918426968188235"
      ]
     },
     "execution_count": 16,
     "metadata": {},
     "output_type": "execute_result"
    }
   ],
   "source": [
    "obs = [53, 52.5, 54, 51, 50.5, 49.5, 48, 53, 52, 50]\n",
    "np.std(obs, ddof=1) / sqrt(len(obs))"
   ]
  },
  {
   "cell_type": "markdown",
   "metadata": {},
   "source": [
    "## 5.4.2 Calculate T-Test statistic\n"
   ]
  },
  {
   "cell_type": "code",
   "execution_count": 17,
   "metadata": {},
   "outputs": [
    {
     "data": {
      "text/plain": [
       "-4.42194527329319"
      ]
     },
     "execution_count": 17,
     "metadata": {},
     "output_type": "execute_result"
    }
   ],
   "source": [
    "n = 101\n",
    "x_bar = 6.9\n",
    "s = 2.5\n",
    "mu = 8\n",
    "\n",
    "(x_bar - mu) / (s/sqrt(n))"
   ]
  },
  {
   "cell_type": "markdown",
   "metadata": {},
   "source": [
    "## 5.4.3 critical t value\n"
   ]
  },
  {
   "cell_type": "code",
   "execution_count": 18,
   "metadata": {},
   "outputs": [
    {
     "data": {
      "text/plain": [
       "1.701130934265931"
      ]
     },
     "execution_count": 18,
     "metadata": {},
     "output_type": "execute_result"
    }
   ],
   "source": [
    "# from scipy.stats import t\n",
    "\n",
    "# two tailed\n",
    "t(df=28).ppf(1 - 0.10/2)"
   ]
  },
  {
   "cell_type": "markdown",
   "metadata": {},
   "source": [
    "## 5.4.4\n",
    "\n",
    "How to find a P-Value from a T-Test statistic\n"
   ]
  },
  {
   "cell_type": "code",
   "execution_count": 19,
   "metadata": {},
   "outputs": [
    {
     "data": {
      "text/plain": [
       "1.7998554107550482"
      ]
     },
     "execution_count": 19,
     "metadata": {},
     "output_type": "execute_result"
    }
   ],
   "source": [
    "# these are going to be a little different.\n",
    "# sophia answers are rounded\n",
    "t(df=29).cdf(1.311) * 2"
   ]
  },
  {
   "cell_type": "code",
   "execution_count": 20,
   "metadata": {},
   "outputs": [
    {
     "data": {
      "text/plain": [
       "0.009580243498838651"
      ]
     },
     "execution_count": 20,
     "metadata": {},
     "output_type": "execute_result"
    }
   ],
   "source": [
    "# left tailed...\n",
    "t(df=15).cdf(-2.624)"
   ]
  },
  {
   "cell_type": "code",
   "execution_count": 21,
   "metadata": {},
   "outputs": [
    {
     "data": {
      "text/plain": [
       "0.050012127821915116"
      ]
     },
     "execution_count": 21,
     "metadata": {},
     "output_type": "execute_result"
    }
   ],
   "source": [
    "# right tailed\n",
    "1 - t(df=19).cdf(1.729)\n",
    "\n",
    "# or\n",
    "t(df=19).sf(1.729)"
   ]
  },
  {
   "cell_type": "markdown",
   "metadata": {},
   "source": [
    "## 5.4.5 Confidence interval using T-distribution\n",
    "\n",
    "$$\n",
    "\n",
    "CI = \\bar x \\pm t \\cdot \\frac{s}{\\sqrt n}\n",
    "\n",
    "\n",
    "$$\n"
   ]
  },
  {
   "cell_type": "code",
   "execution_count": 22,
   "metadata": {},
   "outputs": [
    {
     "name": "stdout",
     "output_type": "stream",
     "text": [
      "6.077531089929404 6.922468910070596\n"
     ]
    }
   ],
   "source": [
    "n = 101\n",
    "x_bar = 6.5\n",
    "s = 2.14\n",
    "t = 1.984\n",
    "\n",
    "# 95% confidence interval\n",
    "\n",
    "spread = t * s / sqrt(n)\n",
    "print(\n",
    "    x_bar - spread,\n",
    "    x_bar + spread\n",
    ")"
   ]
  },
  {
   "cell_type": "markdown",
   "metadata": {},
   "source": [
    "## 5.4.6 standard error of sample mean\n",
    "\n",
    "$$\n",
    "\\frac{s}{\\sqrt n}\n",
    "$$\n",
    "\n",
    "remember to use ddof=1 when calculating the sample std dev\n"
   ]
  },
  {
   "cell_type": "code",
   "execution_count": 23,
   "metadata": {},
   "outputs": [
    {
     "data": {
      "text/plain": [
       "0.40620192023179796"
      ]
     },
     "execution_count": 23,
     "metadata": {},
     "output_type": "execute_result"
    }
   ],
   "source": [
    "obs = [6, 6.5, 6, 7.5, 5]\n",
    "np.std(obs, ddof=1)/sqrt(len(obs))"
   ]
  },
  {
   "cell_type": "markdown",
   "metadata": {},
   "source": [
    "## 5.5.1 ANOVA\n",
    "\n",
    "analysis of variance. compare means by analyzing the sample variances from independently selected sample.\n",
    "\n",
    "compare three or more population means\n",
    "\n",
    "conditions:\n",
    "\n",
    "- independent samples from the populations\n",
    "- each population must be normally distributed\n",
    "- variances (therefore std dev) of all distributions are the same.\n",
    "\n",
    "Null hypothesis: these are all the same\n",
    "\n",
    "Alternate: at least one is different\n",
    "\n",
    "F-statistic\n",
    "\n",
    "$$\n",
    "F = \\frac{\\text{Variability between the samples}}\n",
    "         {\\text{Variability within each sample}}\n",
    "\n",
    "small F-statistic: null hypothesis likely\n",
    "large F-Statistic: evidence against null. would be rare if null were true\n",
    "\n",
    "\n",
    "\n",
    "\n",
    "$$\n"
   ]
  },
  {
   "cell_type": "markdown",
   "metadata": {},
   "source": [
    "## one-way ANOVA, two-way ANOVA\n",
    "\n",
    "one-way anova:\n",
    "\n",
    "consider the population means based on one characteristic\n",
    "\n",
    "two-way anova:\n",
    "\n",
    "consider the population means based upon multiple characteristics\n"
   ]
  },
  {
   "cell_type": "code",
   "execution_count": null,
   "metadata": {},
   "outputs": [],
   "source": []
  },
  {
   "cell_type": "markdown",
   "metadata": {},
   "source": [
    "## Chi-Square statistic\n",
    "\n",
    "categorical data. measures how expected frequency differs from observed frequency.\n",
    "\n",
    "1. take observed values\n",
    "2. subtract the expected values\n",
    "3. square that difference\n",
    "4. divide by the expected values\n",
    "5. add up all of those fractions\n",
    "\n",
    "$$\n",
    "X^2 = \\sum \\frac{(O - E)^2}\n",
    "                {E}\n",
    "$$\n"
   ]
  },
  {
   "cell_type": "code",
   "execution_count": 24,
   "metadata": {},
   "outputs": [
    {
     "data": {
      "text/plain": [
       "Power_divergenceResult(statistic=0.72, pvalue=0.8684899681806465)"
      ]
     },
     "execution_count": 24,
     "metadata": {},
     "output_type": "execute_result"
    }
   ],
   "source": [
    "# from scipy.stats import chisquare\n",
    "obs = [11, 15, 12, 12]\n",
    "exp = [12.5, 12.5, 12.5, 12.5]\n",
    "\n",
    "chisquare(obs, exp, ddof=0)"
   ]
  },
  {
   "cell_type": "code",
   "execution_count": 25,
   "metadata": {},
   "outputs": [
    {
     "data": {
      "text/plain": [
       "107.2"
      ]
     },
     "execution_count": 25,
     "metadata": {},
     "output_type": "execute_result"
    }
   ],
   "source": [
    "536*.2"
   ]
  },
  {
   "cell_type": "markdown",
   "metadata": {},
   "source": [
    "## 5.5.4 Chi-Square test for goodness of fit\n",
    "\n",
    "The chi-square distribution is a right-skewed distribution that generally measures the discrepancy from what a sample of categorical data would look like if you had an idea of what the population should look like in those categories.\n",
    "\n",
    "a smaller chi-square value = small difference\n",
    "larger chi-square = large discrepancy\n",
    "\n",
    "degrees of freedom = number of categories - 1\n"
   ]
  },
  {
   "cell_type": "code",
   "execution_count": 26,
   "metadata": {},
   "outputs": [
    {
     "name": "stdout",
     "output_type": "stream",
     "text": [
      "[40.96, 35.84, 40.96, 40.96, 40.96, 40.96, 46.08, 46.08, 46.08, 46.08, 40.96, 46.08]\n"
     ]
    }
   ],
   "source": [
    "obs = [51, 46, 61, 49, 46, 49, 36, 41, 36, 34, 33, 30]\n",
    "n = 512\n",
    "percent_of_population = [\n",
    "    .08, .07, .08, .08, .08, .08, .09, .09, .09, .09, .08, .09]\n",
    "exp = [n * val for val in percent_of_population]\n",
    "print(exp)"
   ]
  },
  {
   "cell_type": "code",
   "execution_count": 27,
   "metadata": {},
   "outputs": [
    {
     "data": {
      "text/plain": [
       "Power_divergenceResult(statistic=34.21737041170634, pvalue=0.00016967314455865548)"
      ]
     },
     "execution_count": 27,
     "metadata": {},
     "output_type": "execute_result"
    }
   ],
   "source": [
    "chisquare(obs, exp, ddof=1)"
   ]
  },
  {
   "cell_type": "code",
   "execution_count": 28,
   "metadata": {},
   "outputs": [
    {
     "data": {
      "text/plain": [
       "Power_divergenceResult(statistic=4.533333333333333, pvalue=0.10365712861152787)"
      ]
     },
     "execution_count": 28,
     "metadata": {},
     "output_type": "execute_result"
    }
   ],
   "source": [
    "obs = [20, 12, 10, 18]\n",
    "exp = [15, 15, 15, 15]\n",
    "\n",
    "chisquare(obs, exp, ddof=1)"
   ]
  },
  {
   "cell_type": "markdown",
   "metadata": {},
   "source": [
    "## 5.5.5 Chi-square test for homogeneity\n",
    "\n",
    "$$\n",
    "\\text{expected value for cell} = \\frac{\\text{(row total)(column total)}}\n",
    "                                      {\\text{(grand total)}}\n",
    "$$\n",
    "\n",
    "degrees of freedom = (row total -1)(column total - 1)\n"
   ]
  },
  {
   "cell_type": "code",
   "execution_count": 29,
   "metadata": {},
   "outputs": [
    {
     "data": {
      "text/plain": [
       "17.0"
      ]
     },
     "execution_count": 29,
     "metadata": {},
     "output_type": "execute_result"
    }
   ],
   "source": [
    "(18 + 19) * (15 + 19) / (22 + 15 + 18 + 19)"
   ]
  },
  {
   "cell_type": "code",
   "execution_count": 30,
   "metadata": {},
   "outputs": [
    {
     "data": {
      "text/plain": [
       "3"
      ]
     },
     "execution_count": 30,
     "metadata": {},
     "output_type": "execute_result"
    }
   ],
   "source": [
    "(2-1) * (4-1)"
   ]
  },
  {
   "cell_type": "code",
   "execution_count": 31,
   "metadata": {},
   "outputs": [
    {
     "data": {
      "text/plain": [
       "-10.000000000000009"
      ]
     },
     "execution_count": 31,
     "metadata": {},
     "output_type": "execute_result"
    }
   ],
   "source": [
    "n = 100\n",
    "x_bar = 2.9\n",
    "sigma = 0.1\n",
    "mu = 3\n",
    "\n",
    "(x_bar - mu) / (sigma/sqrt(n))"
   ]
  },
  {
   "cell_type": "code",
   "execution_count": 32,
   "metadata": {},
   "outputs": [
    {
     "name": "stdout",
     "output_type": "stream",
     "text": [
      "24.0 21.0\n"
     ]
    }
   ],
   "source": [
    "b_obs = [18, 42, 12]\n",
    "g_obs = [30, 15, 18]\n",
    "\n",
    "e_b_obs = sum(b_obs) / len(b_obs)\n",
    "e_g_obs = sum(g_obs) / len(g_obs)\n",
    "\n",
    "print(e_b_obs, e_g_obs)"
   ]
  },
  {
   "cell_type": "code",
   "execution_count": 33,
   "metadata": {},
   "outputs": [
    {
     "data": {
      "text/plain": [
       "0.06680720126885807"
      ]
     },
     "execution_count": 33,
     "metadata": {},
     "output_type": "execute_result"
    }
   ],
   "source": [
    "norm().sf(abs(-1.5))\n",
    "\n",
    "norm().cdf(-1.5)"
   ]
  },
  {
   "cell_type": "code",
   "execution_count": 34,
   "metadata": {},
   "outputs": [
    {
     "data": {
      "text/plain": [
       "-2.1134870420287037"
      ]
     },
     "execution_count": 34,
     "metadata": {},
     "output_type": "execute_result"
    }
   ],
   "source": [
    "n = 635\n",
    "p_hat = 71/635\n",
    "p = .141\n",
    "q = 1 - p\n",
    "\n",
    "(p_hat - p) / sqrt(p*q/n)"
   ]
  },
  {
   "cell_type": "code",
   "execution_count": 35,
   "metadata": {},
   "outputs": [],
   "source": [
    "obs = [65, 71, 74, 61, 66, 70, 72]\n",
    "\n",
    "obs_mean = sum(obs)/len(obs)\n",
    "std_dev = 4.577\n",
    "\n",
    "# obs_mean - *std_dev, obs_mean + *std_dev"
   ]
  },
  {
   "cell_type": "code",
   "execution_count": 36,
   "metadata": {},
   "outputs": [],
   "source": [
    "dist = norm(loc=obs_mean, scale=std_dev)"
   ]
  },
  {
   "cell_type": "code",
   "execution_count": 37,
   "metadata": {},
   "outputs": [
    {
     "data": {
      "text/plain": [
       "(65.03794468307048, 71.81919817407238)"
      ]
     },
     "execution_count": 37,
     "metadata": {},
     "output_type": "execute_result"
    }
   ],
   "source": [
    "spread = norm.ppf(1 - 0.05/2) * 4.577 / sqrt(7)\n",
    "\n",
    "obs_mean - spread, obs_mean + spread\n",
    "# more extreme than plus or minus this value"
   ]
  },
  {
   "cell_type": "code",
   "execution_count": 38,
   "metadata": {},
   "outputs": [
    {
     "data": {
      "text/plain": [
       "57.5"
      ]
     },
     "execution_count": 38,
     "metadata": {},
     "output_type": "execute_result"
    }
   ],
   "source": [
    "row_total = 52 + 63\n",
    "col_total = 37 + 63\n",
    "grand_total = 48 + 37 + 52 + 63\n",
    "\n",
    "row_total * col_total / grand_total"
   ]
  },
  {
   "cell_type": "code",
   "execution_count": null,
   "metadata": {},
   "outputs": [],
   "source": []
  },
  {
   "cell_type": "code",
   "execution_count": 39,
   "metadata": {},
   "outputs": [
    {
     "data": {
      "text/plain": [
       "0.99"
      ]
     },
     "execution_count": 39,
     "metadata": {},
     "output_type": "execute_result"
    }
   ],
   "source": [
    "1 - 0.01"
   ]
  },
  {
   "cell_type": "code",
   "execution_count": 40,
   "metadata": {},
   "outputs": [],
   "source": [
    "n = 635"
   ]
  },
  {
   "cell_type": "code",
   "execution_count": 41,
   "metadata": {},
   "outputs": [
    {
     "data": {
      "text/plain": [
       "Power_divergenceResult(statistic=0.6666666666666666, pvalue=0.7165313105737892)"
      ]
     },
     "execution_count": 41,
     "metadata": {},
     "output_type": "execute_result"
    }
   ],
   "source": [
    "obs = [17, 13, 14, 16]\n",
    "exp = [15, 15, 15, 15]\n",
    "chisquare(obs, exp, ddof=1)"
   ]
  },
  {
   "cell_type": "code",
   "execution_count": 42,
   "metadata": {},
   "outputs": [],
   "source": [
    "n = 635\n",
    "p = 71/n\n",
    "q = 1-p"
   ]
  },
  {
   "cell_type": "code",
   "execution_count": 43,
   "metadata": {},
   "outputs": [
    {
     "data": {
      "text/plain": [
       "(0.09124097135505821, 0.13238107588903628)"
      ]
     },
     "execution_count": 43,
     "metadata": {},
     "output_type": "execute_result"
    }
   ],
   "source": [
    "spread = norm().ppf(1-0.05) * sqrt(p*q/n)  # 1.6448536269514722\n",
    "# norm().cdf(1.644)\n",
    "p-spread, p+spread"
   ]
  },
  {
   "cell_type": "code",
   "execution_count": 44,
   "metadata": {},
   "outputs": [
    {
     "data": {
      "text/plain": [
       "(59.45707720385795, 77.40006565328491)"
      ]
     },
     "execution_count": 44,
     "metadata": {},
     "output_type": "execute_result"
    }
   ],
   "source": [
    "obs = [65, 71, 74, 61, 66, 70, 72]\n",
    "\n",
    "obs_mean = np.mean(obs)\n",
    "\n",
    "obs_std = np.std(obs, ddof=1)\n",
    "\n",
    "d = norm(loc=obs_mean, scale=obs_std)\n",
    "\n",
    "d.interval(.95)"
   ]
  },
  {
   "cell_type": "code",
   "execution_count": 45,
   "metadata": {},
   "outputs": [
    {
     "data": {
      "text/plain": [
       "(57.22813320982061, 79.62900964732225)"
      ]
     },
     "execution_count": 45,
     "metadata": {},
     "output_type": "execute_result"
    }
   ],
   "source": [
    "from scipy.stats import t\n",
    "\n",
    "t.interval(confidence=0.95, df=len(obs)-1, loc=obs_mean, scale=obs_std)"
   ]
  },
  {
   "cell_type": "code",
   "execution_count": 46,
   "metadata": {},
   "outputs": [
    {
     "data": {
      "text/plain": [
       "(60.12258175033833, 76.73456110680453)"
      ]
     },
     "execution_count": 46,
     "metadata": {},
     "output_type": "execute_result"
    }
   ],
   "source": [
    "e = norm.fit(np.array([65, 71, 74, 61, 66, 70, 72]))\n",
    "e_norm = norm(*e)\n",
    "e_norm.interval(.95)"
   ]
  },
  {
   "cell_type": "code",
   "execution_count": 47,
   "metadata": {},
   "outputs": [
    {
     "data": {
      "text/plain": [
       "-12.399999999999977"
      ]
     },
     "execution_count": 47,
     "metadata": {},
     "output_type": "execute_result"
    }
   ],
   "source": [
    "def y_hat(x):\n",
    "    return 6.6 * x - 260\n",
    "\n",
    "\n",
    "150 - y_hat(64)"
   ]
  },
  {
   "cell_type": "code",
   "execution_count": 48,
   "metadata": {},
   "outputs": [
    {
     "data": {
      "text/plain": [
       "46656.000000000015"
      ]
     },
     "execution_count": 48,
     "metadata": {},
     "output_type": "execute_result"
    }
   ],
   "source": [
    "1 / ((1/6) ** 6)"
   ]
  },
  {
   "cell_type": "code",
   "execution_count": 50,
   "metadata": {},
   "outputs": [
    {
     "data": {
      "text/plain": [
       "20.666249999999998"
      ]
     },
     "execution_count": 50,
     "metadata": {},
     "output_type": "execute_result"
    }
   ],
   "source": [
    "a = binom(n=150, p=0.165)\n",
    "a.var()"
   ]
  },
  {
   "cell_type": "code",
   "execution_count": 52,
   "metadata": {},
   "outputs": [
    {
     "data": {
      "text/plain": [
       "5.7894736842105265"
      ]
     },
     "execution_count": 52,
     "metadata": {},
     "output_type": "execute_result"
    }
   ],
   "source": [
    "# actual - estimated, divide by actual. multiply by 100\n",
    "(100.5 - 95) / 95 * 100"
   ]
  },
  {
   "cell_type": "code",
   "execution_count": 53,
   "metadata": {},
   "outputs": [
    {
     "data": {
      "text/plain": [
       "-1.8333333333333333"
      ]
     },
     "execution_count": 53,
     "metadata": {},
     "output_type": "execute_result"
    }
   ],
   "source": [
    "(24 - 35)/6"
   ]
  },
  {
   "cell_type": "code",
   "execution_count": 54,
   "metadata": {},
   "outputs": [
    {
     "data": {
      "text/plain": [
       "0.108"
      ]
     },
     "execution_count": 54,
     "metadata": {},
     "output_type": "execute_result"
    }
   ],
   "source": [
    "obs = [27, 50, 75, 54, 44]\n",
    "27 / sum(obs)"
   ]
  },
  {
   "cell_type": "code",
   "execution_count": 55,
   "metadata": {},
   "outputs": [
    {
     "data": {
      "text/plain": [
       "0.25"
      ]
     },
     "execution_count": 55,
     "metadata": {},
     "output_type": "execute_result"
    }
   ],
   "source": [
    ".5 * .5"
   ]
  },
  {
   "cell_type": "code",
   "execution_count": 56,
   "metadata": {},
   "outputs": [
    {
     "data": {
      "text/plain": [
       "12.0"
      ]
     },
     "execution_count": 56,
     "metadata": {},
     "output_type": "execute_result"
    }
   ],
   "source": [
    "(17 - 9) * 1.5"
   ]
  },
  {
   "cell_type": "code",
   "execution_count": 57,
   "metadata": {},
   "outputs": [
    {
     "data": {
      "text/plain": [
       "(29, -3)"
      ]
     },
     "execution_count": 57,
     "metadata": {},
     "output_type": "execute_result"
    }
   ],
   "source": [
    "17 + 12, 9 - 12"
   ]
  },
  {
   "cell_type": "code",
   "execution_count": 59,
   "metadata": {},
   "outputs": [
    {
     "data": {
      "text/plain": [
       "0.563601861976635"
      ]
     },
     "execution_count": 59,
     "metadata": {},
     "output_type": "execute_result"
    }
   ],
   "source": [
    "n = 125\n",
    "p_hat = 21/n\n",
    "p = 0.15\n",
    "q = 1-p\n",
    "\n",
    "(p_hat - p) / sqrt(p*q/n)"
   ]
  },
  {
   "cell_type": "code",
   "execution_count": 60,
   "metadata": {},
   "outputs": [
    {
     "data": {
      "text/plain": [
       "2.8284271247462303"
      ]
     },
     "execution_count": 60,
     "metadata": {},
     "output_type": "execute_result"
    }
   ],
   "source": [
    "n = 72\n",
    "x_bar = 36.1\n",
    "sigma = 0.3\n",
    "mu = 36\n",
    "\n",
    "(x_bar - mu) / (sigma/sqrt(n))"
   ]
  }
 ],
 "metadata": {
  "kernelspec": {
   "display_name": "base_rise",
   "language": "python",
   "name": "python3"
  },
  "language_info": {
   "codemirror_mode": {
    "name": "ipython",
    "version": 3
   },
   "file_extension": ".py",
   "mimetype": "text/x-python",
   "name": "python",
   "nbconvert_exporter": "python",
   "pygments_lexer": "ipython3",
   "version": "3.11.4"
  }
 },
 "nbformat": 4,
 "nbformat_minor": 2
}
