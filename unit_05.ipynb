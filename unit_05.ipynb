{
 "cells": [
  {
   "cell_type": "markdown",
   "metadata": {},
   "source": [
    "# Unit 5\n"
   ]
  },
  {
   "cell_type": "code",
   "execution_count": 1,
   "metadata": {},
   "outputs": [],
   "source": [
    "import numpy as np\n",
    "\n",
    "import matplotlib.pyplot as plt\n",
    "from scipy.stats import (\n",
    "    geom,\n",
    "    percentileofscore,\n",
    "    poisson,\n",
    "    norm)\n",
    "from itertools import (\n",
    "    combinations\n",
    ")\n",
    "\n",
    "from math import (\n",
    "    sqrt\n",
    ")\n",
    "\n",
    "from fractions import Fraction\n",
    "from sklearn.linear_model import LinearRegression"
   ]
  },
  {
   "cell_type": "markdown",
   "metadata": {},
   "source": [
    "## 5.1.2\n",
    "\n",
    "Population symbols\n",
    "\n",
    "- proportion = $p$\n",
    "- mean = $\\mu$\n",
    "  -standard deviation = $\\sigma$\n",
    "\n",
    "Sample\n",
    "\n",
    "- Proportion = $\\hat p$\n",
    "- mean = $\\bar x$\n",
    "- standard deviation = $ s $\n"
   ]
  },
  {
   "cell_type": "markdown",
   "metadata": {},
   "source": [
    "## 5.1.3 Sampling with or without replacement\n",
    "\n",
    "For independence, a large population is going to be at least 10 times\n",
    "larger than the sample.\n",
    "\n",
    "$$\n",
    "\\text{Population} \\ge 10 \\cdot n \\\\\n",
    "\\text{where n is sample size}\n",
    "$$\n",
    "\n",
    "If that's the case, then you're going to say that the probabilities don't\n",
    "shift very much when you sample \"n\" items from the population. Therefore,\n",
    "you can treat the sampling as being almost independent.\n",
    "\n",
    "Sampling without Replacement:\n",
    "\n",
    "A sampling plan where each\n",
    "observation that is sampled is kept out of subsequent selections,\n",
    "resulting in a sample where each observation can be selected no more than\n",
    "one time.\n"
   ]
  },
  {
   "cell_type": "markdown",
   "metadata": {},
   "source": [
    "## 5.1.4 Sampling error\n",
    "\n",
    "sample error decreases as sample size increases\n"
   ]
  },
  {
   "cell_type": "markdown",
   "metadata": {},
   "source": [
    "## 5.1.5 Distribution of sample means\n",
    "\n",
    "mean of a sampling distribution of sample means\n",
    "\n",
    "$ \\mu*{\\bar x} = \\mu*{\\text{population}} $\n",
    "\n",
    "standard deviation of a sampling distribution of sample means\n",
    "\n",
    "$ \\sigma*{\\bar x} = \\frac{\\sigma*{population}}{\\sqrt(n)}$\n",
    "\n",
    "Central Limit Theorem: If the sample size is large enough (generally $ n\n",
    "\\ge 30$), and the std dev fo the population is finite, then the\n",
    "distribution of the sample means will be approximately normal\n"
   ]
  },
  {
   "cell_type": "markdown",
   "metadata": {},
   "source": [
    "## Distribution of sample proportions\n",
    "\n",
    "mean of a distribution of sample proportions\n",
    "\n",
    "$ \\mu\\_{\\hat p} = p $\n",
    "\n",
    "standard deviation of a distribution of sample proportions $\n",
    "\\sigma\\_{\\hat p} = sqrt(\\frac{pq}{n}) $\n",
    "\n",
    "p = probability of success q = probability of failure (1-p)\n",
    "\n",
    "for inference these conditions must be true:\n",
    "\n",
    "$ n \\cdot p \\ge 10 $ and $ n \\cdot q \\ge 10 $\n",
    "\n",
    "shape is going to look like a binomial distribution: skewed left when p\n",
    "is high and sample size is low, skewed right when p is low and sample\n",
    "size is low, approximately normal when sample size is high.\n"
   ]
  },
  {
   "cell_type": "markdown",
   "metadata": {},
   "source": []
  }
 ],
 "metadata": {
  "kernelspec": {
   "display_name": "base_rise",
   "language": "python",
   "name": "python3"
  },
  "language_info": {
   "codemirror_mode": {
    "name": "ipython",
    "version": 3
   },
   "file_extension": ".py",
   "mimetype": "text/x-python",
   "name": "python",
   "nbconvert_exporter": "python",
   "pygments_lexer": "ipython3",
   "version": "3.11.4"
  }
 },
 "nbformat": 4,
 "nbformat_minor": 2
}
