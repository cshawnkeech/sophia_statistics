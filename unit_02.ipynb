{
 "cells": [
  {
   "cell_type": "markdown",
   "metadata": {},
   "source": [
    "# Unit 2\n"
   ]
  },
  {
   "cell_type": "code",
   "execution_count": 119,
   "metadata": {},
   "outputs": [],
   "source": [
    "import numpy as np\n",
    "\n",
    "import matplotlib.pyplot as plt\n",
    "from scipy.stats import (\n",
    "    percentileofscore,\n",
    "    norm)\n",
    "from itertools import (\n",
    "    combinations\n",
    ")\n",
    "\n",
    "from math import (\n",
    "    sqrt\n",
    ")"
   ]
  },
  {
   "cell_type": "markdown",
   "metadata": {},
   "source": [
    "## 2.2.4\n"
   ]
  },
  {
   "cell_type": "code",
   "execution_count": 120,
   "metadata": {},
   "outputs": [
    {
     "name": "stdout",
     "output_type": "stream",
     "text": [
      "10.0 8.0\n"
     ]
    }
   ],
   "source": [
    "a = [5, 8, 18, 1, 14, 6, 8, 13, 8, 19]\n",
    "print(\n",
    "    np.mean(a),\n",
    "    np.median(a)\n",
    ")"
   ]
  },
  {
   "cell_type": "markdown",
   "metadata": {},
   "source": [
    "## 2.2.5\n",
    "\n",
    "Weighted Mean/Average\n",
    "\n",
    "Weighted mean = Sum (weight \\* value) / sum of weights\n"
   ]
  },
  {
   "cell_type": "code",
   "execution_count": 121,
   "metadata": {},
   "outputs": [
    {
     "data": {
      "text/plain": [
       "0.8690000000000001"
      ]
     },
     "execution_count": 121,
     "metadata": {},
     "output_type": "execute_result"
    }
   ],
   "source": [
    "tests = 0.84 * 0.25\n",
    "final = 0.85 * 0.4\n",
    "project = 0.9 * 0.15\n",
    "homework = 0.92 * 0.20\n",
    "\n",
    "(tests + final + project + homework) / (0.25 + 0.4 + 0.15 + 0.2)"
   ]
  },
  {
   "cell_type": "markdown",
   "metadata": {},
   "source": [
    "## 2.2.7\n",
    "\n",
    "Types of variation\n",
    "\n",
    "Range, Standard Deviation, Interquartile Range\n",
    "\n",
    "Range: max value - min value\n",
    "\n",
    "Interquartile Range (IQR):\n",
    "\n",
    "1. find median\n",
    "2. find the middle number of upper and lower halves. these three numbers are called the quartiles\n",
    "   Q1 has the first 25% of data\n",
    "   Q2 half of data below and above this point\n",
    "   Q3 75% of data below this point\n",
    "\n",
    "```python\n",
    "q75, q25 = np.percentile(x, [75, 25])\n",
    "\n",
    "iqr = q75 - q25\n",
    "\n",
    "```\n",
    "\n",
    "or\n",
    "\n",
    "```python\n",
    "iqr = np.subtract(*np.percentile(x, [75, 25]))\n",
    "\n",
    "```\n",
    "\n",
    "there is also an `iqr` function in `scipy.stats` now\n"
   ]
  },
  {
   "cell_type": "code",
   "execution_count": 122,
   "metadata": {},
   "outputs": [
    {
     "data": {
      "text/plain": [
       "6.5"
      ]
     },
     "execution_count": 122,
     "metadata": {},
     "output_type": "execute_result"
    }
   ],
   "source": [
    "#\n",
    "x = [71, 74, 74, 74, 75, 79, 79, 79, 79, 81, 81, 81, 81, 83, 84]\n",
    "iqr = np.subtract(*np.percentile(x, [75, 25]))\n",
    "iqr"
   ]
  },
  {
   "cell_type": "code",
   "execution_count": 123,
   "metadata": {},
   "outputs": [
    {
     "name": "stdout",
     "output_type": "stream",
     "text": [
      "81.0 74.5\n"
     ]
    }
   ],
   "source": [
    "q75, q25 = np.percentile(x, [75, 25])\n",
    "print(q75, q25)"
   ]
  },
  {
   "cell_type": "code",
   "execution_count": 124,
   "metadata": {},
   "outputs": [
    {
     "name": "stdout",
     "output_type": "stream",
     "text": [
      "79.0\n",
      "79.0\n"
     ]
    }
   ],
   "source": [
    "# these appear to be equivalent\n",
    "print(np.median(x))\n",
    "print(np.percentile(x, 50))"
   ]
  },
  {
   "cell_type": "code",
   "execution_count": 125,
   "metadata": {},
   "outputs": [
    {
     "data": {
      "text/plain": [
       "0.010000000000000002"
      ]
     },
     "execution_count": 125,
     "metadata": {},
     "output_type": "execute_result"
    }
   ],
   "source": [
    "0.1**2"
   ]
  },
  {
   "cell_type": "markdown",
   "metadata": {},
   "source": [
    "## 2.2.11\n",
    "\n",
    "calculating std dev of samples.\n"
   ]
  },
  {
   "cell_type": "code",
   "execution_count": 126,
   "metadata": {},
   "outputs": [
    {
     "data": {
      "text/plain": [
       "1.8708286933869707"
      ]
     },
     "execution_count": 126,
     "metadata": {},
     "output_type": "execute_result"
    }
   ],
   "source": [
    "x = [2, 3, 4, 4, 7]\n",
    "\n",
    "np.std(x, ddof=1)  # recall: ddof of 1 for sample"
   ]
  },
  {
   "cell_type": "markdown",
   "metadata": {},
   "source": [
    "## 2.2.11\n",
    "\n",
    "box and whisker plots\n",
    "\n",
    "- [Google Sheets Box\n",
    "  Plot](https://www.statology.org/box-plot-google-sheets)\n"
   ]
  },
  {
   "cell_type": "code",
   "execution_count": 127,
   "metadata": {},
   "outputs": [],
   "source": [
    "x = [71, 74, 74, 74, 75, 79, 79, 79, 79, 81, 81, 81, 81, 83, 84]"
   ]
  },
  {
   "cell_type": "code",
   "execution_count": 128,
   "metadata": {},
   "outputs": [
    {
     "data": {
      "image/png": "[encoded data removed]",
      "text/plain": [
       "<Figure size 600x100 with 1 Axes>"
      ]
     },
     "metadata": {},
     "output_type": "display_data"
    }
   ],
   "source": [
    "fig, ax = plt.subplots(figsize=(6, 1))\n",
    "ax.boxplot(x, vert=False)\n",
    "plt.show()"
   ]
  },
  {
   "cell_type": "markdown",
   "metadata": {},
   "source": [
    "## 2.2.12\n",
    "\n",
    "Outlier rule\n",
    "\n",
    "1.5 \\* IQR rule\n",
    "\n",
    "IQR = Q3 - Q1\n",
    "\n",
    "anything below Q1 - (1.5*IQR) is considered an outlier\n",
    "anything above Q3 + (1.5*IQR) is considered an outlier\n"
   ]
  },
  {
   "cell_type": "code",
   "execution_count": 129,
   "metadata": {},
   "outputs": [
    {
     "data": {
      "text/plain": [
       "3.0"
      ]
     },
     "execution_count": 129,
     "metadata": {},
     "output_type": "execute_result"
    }
   ],
   "source": [
    "iqr = 23 - 15\n",
    "out = 1.5 * iqr\n",
    "\n",
    "15 - out"
   ]
  },
  {
   "cell_type": "markdown",
   "metadata": {},
   "source": [
    "## 2.2.13 percentile\n"
   ]
  },
  {
   "cell_type": "code",
   "execution_count": 130,
   "metadata": {},
   "outputs": [
    {
     "data": {
      "text/plain": [
       "60.0"
      ]
     },
     "execution_count": 130,
     "metadata": {},
     "output_type": "execute_result"
    }
   ],
   "source": [
    "x = [88, 49, 92, 47, 61, 94, 94, 76, 79, 92]\n",
    "\n",
    "percentileofscore(x, 88)"
   ]
  },
  {
   "cell_type": "markdown",
   "metadata": {},
   "source": [
    "## 2,3,2\n",
    "\n",
    "68, 95, 99.7 rule\n"
   ]
  },
  {
   "cell_type": "code",
   "execution_count": null,
   "metadata": {},
   "outputs": [],
   "source": []
  },
  {
   "cell_type": "code",
   "execution_count": 131,
   "metadata": {},
   "outputs": [
    {
     "data": {
      "text/plain": [
       "0.6826894921370863"
      ]
     },
     "execution_count": 131,
     "metadata": {},
     "output_type": "execute_result"
    }
   ],
   "source": [
    "a = norm(loc=1.5, scale=0.1)\n",
    "\n",
    "a.cdf(1.6) - a.cdf(1.4)"
   ]
  },
  {
   "cell_type": "markdown",
   "metadata": {},
   "source": [
    "## 2.3.3 z score\n",
    "\n",
    "z = (raw_score - mean) / standard_deviation\n",
    "\n",
    "population:\n",
    "\n",
    "$$\n",
    "\n",
    "z = \\frac{x - \\mu}{\\sigma}\n",
    "\n",
    "\n",
    "$$\n",
    "\n",
    "sample:\n",
    "\n",
    "$$\n",
    "\n",
    "z = \\frac{x - \\bar x}{s}\n",
    "\n",
    "\n",
    "$$\n"
   ]
  },
  {
   "cell_type": "code",
   "execution_count": 132,
   "metadata": {},
   "outputs": [
    {
     "data": {
      "text/plain": [
       "2.5"
      ]
     },
     "execution_count": 132,
     "metadata": {},
     "output_type": "execute_result"
    }
   ],
   "source": [
    "(59 - 56) / 1.2"
   ]
  },
  {
   "cell_type": "code",
   "execution_count": 133,
   "metadata": {},
   "outputs": [
    {
     "name": "stdout",
     "output_type": "stream",
     "text": [
      "0.4 0.5\n"
     ]
    }
   ],
   "source": [
    "j = (310 - 300) / 20\n",
    "f = (340 - 320) / 50\n",
    "\n",
    "print(f, j)"
   ]
  },
  {
   "cell_type": "markdown",
   "metadata": {},
   "source": [
    "## 2.3.4 Standard normal dist\n",
    "\n",
    "mean of 0, std dev of 1\n"
   ]
  },
  {
   "cell_type": "markdown",
   "metadata": {},
   "source": [
    "## 2.3.5 Sampling Distribution\n"
   ]
  },
  {
   "cell_type": "code",
   "execution_count": 134,
   "metadata": {},
   "outputs": [
    {
     "name": "stdout",
     "output_type": "stream",
     "text": [
      "[(1, 3), (1, 5), (1, 7), (3, 5), (3, 7), (5, 7)]\n"
     ]
    }
   ],
   "source": [
    "a = list(combinations([1, 3, 5, 7], 2))\n",
    "print(a)"
   ]
  },
  {
   "cell_type": "code",
   "execution_count": 135,
   "metadata": {},
   "outputs": [
    {
     "name": "stdout",
     "output_type": "stream",
     "text": [
      "(1, 3) 2\n",
      "(1, 5) 3\n",
      "(1, 7) 4\n",
      "(3, 5) 4\n",
      "(3, 7) 5\n",
      "(5, 7) 6\n"
     ]
    }
   ],
   "source": [
    "for t in a:\n",
    "    print(t, int(np.mean(t)))"
   ]
  },
  {
   "cell_type": "markdown",
   "metadata": {},
   "source": [
    "## 2.3.6 center and variation of sampling distribution\n",
    "\n",
    "the mean of the distribution of sample means is the same as the mean of the original distribution (aka parent distribution or grand mean)\n",
    "\n",
    "$$\n",
    "\n",
    "\\mu_{\\bar x} = \\mu_{\\text{original}}\n",
    "$$\n",
    "\n",
    "standard deviation of a distribution of sample means\n",
    "\n",
    "$$\n",
    "\\sigma_{\\bar x} = \\frac{\\sigma}{\\sqrt{n}}\n",
    "$$\n"
   ]
  },
  {
   "cell_type": "code",
   "execution_count": 136,
   "metadata": {},
   "outputs": [
    {
     "data": {
      "text/plain": [
       "4.0"
      ]
     },
     "execution_count": 136,
     "metadata": {},
     "output_type": "execute_result"
    }
   ],
   "source": [
    "0.4 * sqrt(100)"
   ]
  },
  {
   "cell_type": "code",
   "execution_count": 137,
   "metadata": {},
   "outputs": [
    {
     "data": {
      "text/plain": [
       "4.5"
      ]
     },
     "execution_count": 137,
     "metadata": {},
     "output_type": "execute_result"
    }
   ],
   "source": [
    "0.5 * sqrt(81)"
   ]
  },
  {
   "cell_type": "markdown",
   "metadata": {},
   "source": [
    "## 2.3.7 Central Limit Theorem (CLT)\n",
    "\n",
    "how many before the shape becomes approximately normal?\n",
    "\n",
    "$ n \\ge 30 $\n"
   ]
  },
  {
   "cell_type": "code",
   "execution_count": 138,
   "metadata": {},
   "outputs": [
    {
     "data": {
      "text/plain": [
       "34"
      ]
     },
     "execution_count": 138,
     "metadata": {},
     "output_type": "execute_result"
    }
   ],
   "source": [
    "7 + 15 + 8 + 4"
   ]
  },
  {
   "cell_type": "code",
   "execution_count": 139,
   "metadata": {},
   "outputs": [
    {
     "data": {
      "text/plain": [
       "[(6, 4),\n",
       " (5, 4),\n",
       " (4, 4),\n",
       " (10, 1),\n",
       " (9, 1),\n",
       " (8, 1),\n",
       " (7, 1),\n",
       " (3, 1),\n",
       " (2, 1),\n",
       " (1, 1),\n",
       " (0, 1)]"
      ]
     },
     "execution_count": 139,
     "metadata": {},
     "output_type": "execute_result"
    }
   ],
   "source": [
    "x = [5, 7, 4, 6, 1, 8, 9, 4, 4, 5, 10, 4, 6, 5, 3, 6, 5, 6, 0, 2]\n",
    "\n",
    "unique, frequency = np.unique(\n",
    "    x,\n",
    "    return_counts=True\n",
    ")\n",
    "\n",
    "sorted(list(zip(unique, frequency)),\n",
    "       key=lambda x: x[1])[::-1]"
   ]
  },
  {
   "cell_type": "code",
   "execution_count": 140,
   "metadata": {},
   "outputs": [
    {
     "data": {
      "text/plain": [
       "0.9973002039367398"
      ]
     },
     "execution_count": 140,
     "metadata": {},
     "output_type": "execute_result"
    }
   ],
   "source": [
    "q11 = norm(loc=176, scale=12)\n",
    "\n",
    "q11.cdf(212) - q11.cdf(140)"
   ]
  },
  {
   "cell_type": "code",
   "execution_count": 141,
   "metadata": {},
   "outputs": [
    {
     "data": {
      "text/plain": [
       "108.0"
      ]
     },
     "execution_count": 141,
     "metadata": {},
     "output_type": "execute_result"
    }
   ],
   "source": [
    "0.3 * 360"
   ]
  },
  {
   "cell_type": "code",
   "execution_count": 142,
   "metadata": {},
   "outputs": [
    {
     "name": "stdout",
     "output_type": "stream",
     "text": [
      "6.25\n"
     ]
    },
    {
     "data": {
      "text/plain": [
       "2.5"
      ]
     },
     "execution_count": 142,
     "metadata": {},
     "output_type": "execute_result"
    }
   ],
   "source": [
    "print(np.var([4, 6, 7, 10], ddof=1))\n",
    "np.std([4, 6, 7, 10], ddof=1)"
   ]
  },
  {
   "cell_type": "code",
   "execution_count": 143,
   "metadata": {},
   "outputs": [
    {
     "data": {
      "text/plain": [
       "0.775"
      ]
     },
     "execution_count": 143,
     "metadata": {},
     "output_type": "execute_result"
    }
   ],
   "source": [
    "t = (.5 * .87)\n",
    "q = (.3 * 1)\n",
    "h = (.2 * .2)\n",
    "\n",
    "(t + q + h) / (.5 + .3 + .2)"
   ]
  },
  {
   "cell_type": "code",
   "execution_count": 144,
   "metadata": {},
   "outputs": [
    {
     "data": {
      "text/plain": [
       "84.6"
      ]
     },
     "execution_count": 144,
     "metadata": {},
     "output_type": "execute_result"
    }
   ],
   "source": [
    "g = [48, 65, 72, 86, 84, 52, 93, 97, 81, 80]\n",
    "np.percentile(g, 70)"
   ]
  },
  {
   "cell_type": "code",
   "execution_count": 145,
   "metadata": {},
   "outputs": [
    {
     "data": {
      "text/plain": [
       "[48, 52, 65, 72, 80, 81, 84, 86, 93, 97]"
      ]
     },
     "execution_count": 145,
     "metadata": {},
     "output_type": "execute_result"
    }
   ],
   "source": [
    "sorted(g)"
   ]
  },
  {
   "cell_type": "code",
   "execution_count": 147,
   "metadata": {},
   "outputs": [
    {
     "data": {
      "text/plain": [
       "0.24933333333333332"
      ]
     },
     "execution_count": 147,
     "metadata": {},
     "output_type": "execute_result"
    }
   ],
   "source": [
    "r = [234, 443, 246, 203, 374]\n",
    "\n",
    "374 / sum(r)"
   ]
  }
 ],
 "metadata": {
  "kernelspec": {
   "display_name": "base_rise",
   "language": "python",
   "name": "python3"
  },
  "language_info": {
   "codemirror_mode": {
    "name": "ipython",
    "version": 3
   },
   "file_extension": ".py",
   "mimetype": "text/x-python",
   "name": "python",
   "nbconvert_exporter": "python",
   "pygments_lexer": "ipython3",
   "version": "3.11.4"
  }
 },
 "nbformat": 4,
 "nbformat_minor": 2
}
