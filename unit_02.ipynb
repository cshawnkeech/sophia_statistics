{
 "cells": [
  {
   "cell_type": "markdown",
   "metadata": {},
   "source": [
    "# Unit 2\n"
   ]
  },
  {
   "cell_type": "code",
   "execution_count": 66,
   "metadata": {},
   "outputs": [],
   "source": [
    "import numpy as np\n",
    "\n",
    "import matplotlib.pyplot as plt\n",
    "from scipy.stats import (\n",
    "    percentileofscore,\n",
    "    norm)\n",
    "from itertools import (\n",
    "    combinations\n",
    ")"
   ]
  },
  {
   "cell_type": "markdown",
   "metadata": {},
   "source": [
    "## 2.2.4\n"
   ]
  },
  {
   "cell_type": "code",
   "execution_count": 67,
   "metadata": {},
   "outputs": [
    {
     "name": "stdout",
     "output_type": "stream",
     "text": [
      "10.0 8.0\n"
     ]
    }
   ],
   "source": [
    "a = [5, 8, 18, 1, 14, 6, 8, 13, 8, 19]\n",
    "print(\n",
    "    np.mean(a),\n",
    "    np.median(a)\n",
    ")"
   ]
  },
  {
   "cell_type": "markdown",
   "metadata": {},
   "source": [
    "## 2.2.5\n",
    "\n",
    "Weighted Mean/Average\n",
    "\n",
    "Weighted mean = Sum (weight \\* value) / sum of weights\n"
   ]
  },
  {
   "cell_type": "code",
   "execution_count": 68,
   "metadata": {},
   "outputs": [
    {
     "data": {
      "text/plain": [
       "0.8690000000000001"
      ]
     },
     "execution_count": 68,
     "metadata": {},
     "output_type": "execute_result"
    }
   ],
   "source": [
    "tests = 0.84 * 0.25\n",
    "final = 0.85 * 0.4\n",
    "project = 0.9 * 0.15\n",
    "homework = 0.92 * 0.20\n",
    "\n",
    "(tests + final + project + homework) / (0.25 + 0.4 + 0.15 + 0.2)"
   ]
  },
  {
   "cell_type": "markdown",
   "metadata": {},
   "source": [
    "## 2.2.7\n",
    "\n",
    "Types of variation\n",
    "\n",
    "Range, Standard Deviation, Interquartile Range\n",
    "\n",
    "Range: max value - min value\n",
    "\n",
    "Interquartile Range (IQR):\n",
    "\n",
    "1. find median\n",
    "2. find the middle number of upper and lower halves. these three numbers are called the quartiles\n",
    "   Q1 has the first 25% of data\n",
    "   Q2 half of data below and above this point\n",
    "   Q3 75% of data below this point\n",
    "\n",
    "```python\n",
    "q75, q25 = np.percentile(x, [75, 25])\n",
    "\n",
    "iqr = q75 - q25\n",
    "\n",
    "```\n",
    "\n",
    "or\n",
    "\n",
    "```python\n",
    "iqr = np.subtract(*np.percentile(x, [75, 25]))\n",
    "\n",
    "```\n",
    "\n",
    "there is also an `iqr` function in `scipy.stats` now\n"
   ]
  },
  {
   "cell_type": "code",
   "execution_count": 69,
   "metadata": {},
   "outputs": [
    {
     "data": {
      "text/plain": [
       "6.5"
      ]
     },
     "execution_count": 69,
     "metadata": {},
     "output_type": "execute_result"
    }
   ],
   "source": [
    "#\n",
    "x = [71, 74, 74, 74, 75, 79, 79, 79, 79, 81, 81, 81, 81, 83, 84]\n",
    "iqr = np.subtract(*np.percentile(x, [75, 25]))\n",
    "iqr"
   ]
  },
  {
   "cell_type": "code",
   "execution_count": 70,
   "metadata": {},
   "outputs": [
    {
     "name": "stdout",
     "output_type": "stream",
     "text": [
      "81.0 74.5\n"
     ]
    }
   ],
   "source": [
    "q75, q25 = np.percentile(x, [75, 25])\n",
    "print(q75, q25)"
   ]
  },
  {
   "cell_type": "code",
   "execution_count": 71,
   "metadata": {},
   "outputs": [
    {
     "name": "stdout",
     "output_type": "stream",
     "text": [
      "79.0\n",
      "79.0\n"
     ]
    }
   ],
   "source": [
    "# these appear to be equivalent\n",
    "print(np.median(x))\n",
    "print(np.percentile(x, 50))"
   ]
  },
  {
   "cell_type": "code",
   "execution_count": 72,
   "metadata": {},
   "outputs": [
    {
     "data": {
      "text/plain": [
       "0.010000000000000002"
      ]
     },
     "execution_count": 72,
     "metadata": {},
     "output_type": "execute_result"
    }
   ],
   "source": [
    "0.1**2"
   ]
  },
  {
   "cell_type": "markdown",
   "metadata": {},
   "source": [
    "## 2.2.11\n",
    "\n",
    "calculating std dev of samples.\n"
   ]
  },
  {
   "cell_type": "code",
   "execution_count": 73,
   "metadata": {},
   "outputs": [
    {
     "data": {
      "text/plain": [
       "1.8708286933869707"
      ]
     },
     "execution_count": 73,
     "metadata": {},
     "output_type": "execute_result"
    }
   ],
   "source": [
    "x = [2, 3, 4, 4, 7]\n",
    "\n",
    "np.std(x, ddof=1)  # recall: ddof of 1 for sample"
   ]
  },
  {
   "cell_type": "markdown",
   "metadata": {},
   "source": [
    "## 2.2.11\n",
    "\n",
    "box and whisker plots\n",
    "\n",
    "- [Google Sheets Box\n",
    "  Plot](https://www.statology.org/box-plot-google-sheets)\n"
   ]
  },
  {
   "cell_type": "code",
   "execution_count": 74,
   "metadata": {},
   "outputs": [],
   "source": [
    "x = [71, 74, 74, 74, 75, 79, 79, 79, 79, 81, 81, 81, 81, 83, 84]"
   ]
  },
  {
   "cell_type": "code",
   "execution_count": 75,
   "metadata": {},
   "outputs": [
    {
     "data": {
      "image/png": "[encoded data removed]",
      "text/plain": [
       "<Figure size 600x100 with 1 Axes>"
      ]
     },
     "metadata": {},
     "output_type": "display_data"
    }
   ],
   "source": [
    "fig, ax = plt.subplots(figsize=(6, 1))\n",
    "ax.boxplot(x, vert=False)\n",
    "plt.show()"
   ]
  },
  {
   "cell_type": "markdown",
   "metadata": {},
   "source": [
    "## 2.2.12\n",
    "\n",
    "Outlier rule\n",
    "\n",
    "1.5 \\* IQR rule\n",
    "\n",
    "IQR = Q3 - Q1\n",
    "\n",
    "anything below Q1 - (1.5*IQR) is considered an outlier\n",
    "anything above Q3 + (1.5*IQR) is considered an outlier\n"
   ]
  },
  {
   "cell_type": "code",
   "execution_count": 76,
   "metadata": {},
   "outputs": [
    {
     "data": {
      "text/plain": [
       "3.0"
      ]
     },
     "execution_count": 76,
     "metadata": {},
     "output_type": "execute_result"
    }
   ],
   "source": [
    "iqr = 23 - 15\n",
    "out = 1.5 * iqr\n",
    "\n",
    "15 - out"
   ]
  },
  {
   "cell_type": "markdown",
   "metadata": {},
   "source": [
    "## 2.2.13 percentile\n"
   ]
  },
  {
   "cell_type": "code",
   "execution_count": 77,
   "metadata": {},
   "outputs": [
    {
     "data": {
      "text/plain": [
       "60.0"
      ]
     },
     "execution_count": 77,
     "metadata": {},
     "output_type": "execute_result"
    }
   ],
   "source": [
    "x = [88, 49, 92, 47, 61, 94, 94, 76, 79, 92]\n",
    "\n",
    "percentileofscore(x, 88)"
   ]
  },
  {
   "cell_type": "markdown",
   "metadata": {},
   "source": [
    "## 2,3,2\n",
    "\n",
    "68, 95, 99.7 rule\n"
   ]
  },
  {
   "cell_type": "code",
   "execution_count": null,
   "metadata": {},
   "outputs": [],
   "source": []
  },
  {
   "cell_type": "code",
   "execution_count": 78,
   "metadata": {},
   "outputs": [
    {
     "data": {
      "text/plain": [
       "0.6826894921370863"
      ]
     },
     "execution_count": 78,
     "metadata": {},
     "output_type": "execute_result"
    }
   ],
   "source": [
    "a = norm(loc=1.5, scale=0.1)\n",
    "\n",
    "a.cdf(1.6) - a.cdf(1.4)"
   ]
  },
  {
   "cell_type": "markdown",
   "metadata": {},
   "source": [
    "## 2.3.3 z score\n",
    "\n",
    "z = (raw_score - mean) / standard_deviation\n",
    "\n",
    "population:\n",
    "\n",
    "$$\n",
    "\n",
    "z = \\frac{x - \\mu}{\\sigma}\n",
    "\n",
    "\n",
    "$$\n",
    "\n",
    "sample:\n",
    "\n",
    "$$\n",
    "\n",
    "z = \\frac{x - \\bar x}{s}\n",
    "\n",
    "\n",
    "$$\n"
   ]
  },
  {
   "cell_type": "markdown",
   "metadata": {},
   "source": []
  },
  {
   "cell_type": "code",
   "execution_count": 79,
   "metadata": {},
   "outputs": [
    {
     "name": "stdout",
     "output_type": "stream",
     "text": [
      "0.4 0.5\n"
     ]
    }
   ],
   "source": [
    "j = (310 - 300) / 20\n",
    "f = (340 - 320) / 50\n",
    "\n",
    "print(f, j)"
   ]
  },
  {
   "cell_type": "markdown",
   "metadata": {},
   "source": [
    "## 2.3.4 Standard normal dist\n",
    "\n",
    "mean of 0, std dev of 1\n"
   ]
  },
  {
   "cell_type": "markdown",
   "metadata": {},
   "source": [
    "## 2.3.5 Sampling Distribution\n"
   ]
  },
  {
   "cell_type": "code",
   "execution_count": 84,
   "metadata": {},
   "outputs": [
    {
     "name": "stdout",
     "output_type": "stream",
     "text": [
      "[(1, 3), (1, 5), (1, 7), (3, 5), (3, 7), (5, 7)]\n"
     ]
    }
   ],
   "source": [
    "a = list(combinations([1, 3, 5, 7], 2))\n",
    "print(a)"
   ]
  },
  {
   "cell_type": "code",
   "execution_count": 87,
   "metadata": {},
   "outputs": [
    {
     "name": "stdout",
     "output_type": "stream",
     "text": [
      "(1, 3) 2\n",
      "(1, 5) 3\n",
      "(1, 7) 4\n",
      "(3, 5) 4\n",
      "(3, 7) 5\n",
      "(5, 7) 6\n"
     ]
    }
   ],
   "source": [
    "for t in a:\n",
    "    print(t, int(np.mean(t)))"
   ]
  }
 ],
 "metadata": {
  "kernelspec": {
   "display_name": "base_rise",
   "language": "python",
   "name": "python3"
  },
  "language_info": {
   "codemirror_mode": {
    "name": "ipython",
    "version": 3
   },
   "file_extension": ".py",
   "mimetype": "text/x-python",
   "name": "python",
   "nbconvert_exporter": "python",
   "pygments_lexer": "ipython3",
   "version": "3.11.4"
  }
 },
 "nbformat": 4,
 "nbformat_minor": 2
}
