{
 "cells": [
  {
   "cell_type": "markdown",
   "metadata": {},
   "source": [
    "# Unit 3\n"
   ]
  },
  {
   "cell_type": "code",
   "execution_count": 32,
   "metadata": {},
   "outputs": [],
   "source": [
    "import numpy as np\n",
    "\n",
    "import matplotlib.pyplot as plt\n",
    "from scipy.stats import (\n",
    "    geom,\n",
    "    percentileofscore,\n",
    "    poisson,\n",
    "    norm)\n",
    "from itertools import (\n",
    "    combinations\n",
    ")\n",
    "\n",
    "from math import (\n",
    "    sqrt\n",
    ")\n",
    "\n",
    "from fractions import Fraction"
   ]
  },
  {
   "cell_type": "markdown",
   "metadata": {},
   "source": [
    "## 3.1.1 Probability\n",
    "\n",
    "outcome: singular result\n",
    "event: an outcome or set of outcomes\n"
   ]
  },
  {
   "cell_type": "markdown",
   "metadata": {},
   "source": [
    "## 3.1.2 Fundamental Counting Principle\n",
    "\n",
    "Tree diagram: a way to visualize different paths that a sequence of\n",
    "chance experiments could take\n",
    "\n",
    "Fundamental Counting Principle: If chance experiment A has m possible\n",
    "outcomes for one trial, and chance experiment B has n possible outcomes\n",
    "for its trial (independent of the first trial) then there are (m\\*n)\n",
    "potential outcomes when A and B are done together\n"
   ]
  },
  {
   "cell_type": "code",
   "execution_count": 33,
   "metadata": {},
   "outputs": [
    {
     "data": {
      "text/plain": [
       "32"
      ]
     },
     "execution_count": 33,
     "metadata": {},
     "output_type": "execute_result"
    }
   ],
   "source": [
    "4 * 8 * 1"
   ]
  },
  {
   "cell_type": "code",
   "execution_count": 34,
   "metadata": {},
   "outputs": [
    {
     "data": {
      "text/plain": [
       "64"
      ]
     },
     "execution_count": 34,
     "metadata": {},
     "output_type": "execute_result"
    }
   ],
   "source": [
    "4 * 4 * 4"
   ]
  },
  {
   "cell_type": "markdown",
   "metadata": {},
   "source": [
    "## 3.1.3\n",
    "\n",
    "Theoretical probability / A priori Method\n",
    "\n",
    "$$\n",
    "\n",
    "P(E) = \\frac{\\text{number of outcomes favorable to E}}\n",
    "            {\\text{number of outcomes in the sample space}}\n",
    "\n",
    "\n",
    "$$\n"
   ]
  },
  {
   "cell_type": "code",
   "execution_count": 35,
   "metadata": {},
   "outputs": [
    {
     "data": {
      "text/plain": [
       "13.0"
      ]
     },
     "execution_count": 35,
     "metadata": {},
     "output_type": "execute_result"
    }
   ],
   "source": [
    "Fraction(4/52)\n",
    "\n",
    "52/4  # 1/13"
   ]
  },
  {
   "cell_type": "markdown",
   "metadata": {},
   "source": [
    "## 3.1.4\n",
    "\n",
    "Relative Frequency Probability / Empirical Method/ Experimental\n",
    "probability\n",
    "\n",
    "$$\n",
    "\n",
    "P(E) = \\frac{\\text{number of times E occurs}} {\\text{number of trials}}\n",
    "$$\n",
    "\n",
    "Subjective probability: not a true probability at all. Assigns\n",
    "probabilities based on how likely an individual feels the event is\n"
   ]
  },
  {
   "cell_type": "markdown",
   "metadata": {},
   "source": [
    "### 3.1.5\n",
    "\n",
    "Discrete\n",
    "\n",
    "Continuous\n",
    "\n",
    "Countably Infinite Outcomes:\n",
    "It is important to note that some distributions have what we call countably infinite outcomes.\n",
    "\n",
    "EXAMPLE Suppose you are interested in the number of rolls it takes to obtain a 6 on your die. If you rolled a 6 on your first roll that would be a 1 because it took you one roll. If you rolled it on your second trial after missing on the first trial, then it would be a 2.\n",
    "File:4327-prob9.png\n",
    "However, suppose you rolled 4, 2, 3, 2, 3, 4, 5, 2, and just kept on going here; hypothetically, this could go on forever. There are infinitely many outcomes here, or infinitely many rolls that it hypothetically could take to obtain a 6. This is what we would call countably infinite outcomes.\n",
    "These are considered discrete because, for instance, it can't take you one and a half rolls to obtain a 6. It has to take an integer value, like a 1 or 2 or 3. Since it can only contain these particular values as outcomes,--the integers--it is discrete instead of continuous.\n"
   ]
  },
  {
   "cell_type": "markdown",
   "metadata": {},
   "source": [
    "## 3.1.6 Law of large numbers / law of averages\n",
    "\n",
    "Law of Large Numbers: A mathematical rule that states that as the number\n",
    "of trials of a chance experiment increase, the experimental probability\n",
    "of an event becomes closer to the true probability of that event.\n",
    "\n",
    "Law of Averages:\n",
    "\n",
    "You see the \"law of averages\" a lot in the casino. Remember, it's not actually a mathematical term, but rather a way for individuals to convince themselves of a favorable outcome.\n",
    "\n",
    "One person may say, \"I've won five in a row! I can't lose!\", while another person may say, \"I've lost five in a row! I must be due to win!\"\n",
    "The law of averages--the false law of averages--is also called the gambler's fallacy or the gambler's ruin. People can convince themselves that favorable outcomes are about to happen even when they're not necessarily going to happen because they're applying the law of large numbers to small numbers of trials.\n"
   ]
  },
  {
   "cell_type": "markdown",
   "metadata": {},
   "source": [
    "## 3.1.7 Simulations (Monte Carlo Method)\n",
    "\n",
    "Simulation/Monte Carlo Method: A way to approximate probability based on\n",
    "trials of chance experiments that mimic the real-life trials.\n"
   ]
  },
  {
   "cell_type": "markdown",
   "metadata": {},
   "source": [
    "## 3.1.8 Expected Value\n",
    "\n",
    "Expected Value: The long-term average value taken by the outcomes from a chance experiment. It does not need to be one of the expected outcomes.\n",
    "\n",
    "Expected Value:\n",
    "\n",
    "$$\n",
    "\n",
    "\\mu_x = E(X) = \\sum_{i=1}^n x_i \\cdot p_i\n",
    "\n",
    "\n",
    "$$\n"
   ]
  },
  {
   "cell_type": "code",
   "execution_count": 36,
   "metadata": {},
   "outputs": [
    {
     "data": {
      "text/plain": [
       "0.9500000000000001"
      ]
     },
     "execution_count": 36,
     "metadata": {},
     "output_type": "execute_result"
    }
   ],
   "source": [
    "x = [(.42, 0), (.43, 0), (.14, 5), (.01, 25)]\n",
    "\n",
    "sum(a[0]*a[1] for a in x)"
   ]
  },
  {
   "cell_type": "code",
   "execution_count": 55,
   "metadata": {},
   "outputs": [
    {
     "data": {
      "text/plain": [
       "2.5"
      ]
     },
     "execution_count": 55,
     "metadata": {},
     "output_type": "execute_result"
    }
   ],
   "source": [
    "x = [(.2, 1), (.25, 2), (.4, 3), (.15, 4)]\n",
    "\n",
    "sum(a[0]*a[1] for a in x)"
   ]
  },
  {
   "cell_type": "markdown",
   "metadata": {},
   "source": [
    "## 3.1.9 Odds\n",
    "\n",
    "Odds A ratio relating the number of favorable outcomes to unfavorable\n",
    "outcomes (odds in favor) or vice-versa (odds against). Odds are usually\n",
    "expressed in simplest integer terms (eg 2:1, not 0.5:1 or 4:2).\n"
   ]
  },
  {
   "cell_type": "markdown",
   "metadata": {},
   "source": [
    "## 3.2.1 Compliment\n",
    "\n",
    "Probability of \"at least one\"\n",
    "\n",
    "P(\"at least one\") = 1 - P(\"none at all\")\n"
   ]
  },
  {
   "cell_type": "code",
   "execution_count": 37,
   "metadata": {},
   "outputs": [
    {
     "data": {
      "text/plain": [
       "18.0"
      ]
     },
     "execution_count": 37,
     "metadata": {},
     "output_type": "execute_result"
    }
   ],
   "source": [
    "36/2"
   ]
  },
  {
   "cell_type": "markdown",
   "metadata": {},
   "source": [
    "## 3.2.2 Overlapping Events\n",
    "\n",
    "Non-overlapping (aka disjoint events or mutually exclusive)\n"
   ]
  },
  {
   "cell_type": "markdown",
   "metadata": {},
   "source": [
    "## 3.2.3 Venn diagrams\n"
   ]
  },
  {
   "cell_type": "markdown",
   "metadata": {},
   "source": [
    "## 3.2.4 And vs Or\n"
   ]
  },
  {
   "cell_type": "code",
   "execution_count": 38,
   "metadata": {},
   "outputs": [
    {
     "data": {
      "text/plain": [
       "Fraction(1, 8)"
      ]
     },
     "execution_count": 38,
     "metadata": {},
     "output_type": "execute_result"
    }
   ],
   "source": [
    "Fraction(13, 52) * Fraction(1, 2)"
   ]
  },
  {
   "cell_type": "markdown",
   "metadata": {},
   "source": [
    "## 3.2.6\n",
    "\n",
    "P(A and B) = P(A) \\* P(B)\n"
   ]
  },
  {
   "cell_type": "markdown",
   "metadata": {},
   "source": [
    "## 3.2.7 Either/Or\n",
    "\n",
    "P(A or B) = P(A) + P(B) - P(any overlapping events)\n"
   ]
  },
  {
   "cell_type": "markdown",
   "metadata": {},
   "source": [
    "## 3.3.1 Conditional Probability\n",
    "\n",
    "$$\n",
    "P(B | A) = \\frac{P(A \\text{ and } B)}\n",
    "                {P(A)}\n",
    "$$\n"
   ]
  },
  {
   "cell_type": "code",
   "execution_count": 39,
   "metadata": {},
   "outputs": [
    {
     "data": {
      "text/plain": [
       "0.4146341463414634"
      ]
     },
     "execution_count": 39,
     "metadata": {},
     "output_type": "execute_result"
    }
   ],
   "source": [
    "17 / (24 + 17)"
   ]
  },
  {
   "cell_type": "markdown",
   "metadata": {},
   "source": [
    "## 3.3.3 Two way tables/ contingency tables\n"
   ]
  },
  {
   "cell_type": "code",
   "execution_count": 40,
   "metadata": {},
   "outputs": [
    {
     "data": {
      "text/plain": [
       "42"
      ]
     },
     "execution_count": 40,
     "metadata": {},
     "output_type": "execute_result"
    }
   ],
   "source": [
    "(23 + 5 + 14)"
   ]
  },
  {
   "cell_type": "code",
   "execution_count": 41,
   "metadata": {},
   "outputs": [
    {
     "data": {
      "text/plain": [
       "0.0497737556561086"
      ]
     },
     "execution_count": 41,
     "metadata": {},
     "output_type": "execute_result"
    }
   ],
   "source": [
    "# 3.3.5\n",
    "(12/52) * (11/51)"
   ]
  },
  {
   "cell_type": "code",
   "execution_count": 42,
   "metadata": {},
   "outputs": [
    {
     "data": {
      "text/plain": [
       "0.4230769230769231"
      ]
     },
     "execution_count": 42,
     "metadata": {},
     "output_type": "execute_result"
    }
   ],
   "source": [
    "22/52"
   ]
  },
  {
   "cell_type": "code",
   "execution_count": 43,
   "metadata": {},
   "outputs": [
    {
     "data": {
      "text/plain": [
       "0.84"
      ]
     },
     "execution_count": 43,
     "metadata": {},
     "output_type": "execute_result"
    }
   ],
   "source": [
    "0.18 + 0.08 + 0.58"
   ]
  },
  {
   "cell_type": "markdown",
   "metadata": {},
   "source": [
    "## 3.3.9 Bayes\n",
    "\n",
    "$$\n",
    "P(A|B) = \\frac{P(B|A)P(A)}\n",
    "              {P(B)}\n",
    "$$\n"
   ]
  },
  {
   "cell_type": "markdown",
   "metadata": {},
   "source": [
    "## 3.3.10 Paradoxes\n",
    "\n",
    "- [paradoxes: sophia.org](https://app.sophia.org/spcc/introduction-to-statistics-2-challenge-3-3/10/7490/paradoxes-2)\n"
   ]
  },
  {
   "cell_type": "code",
   "execution_count": null,
   "metadata": {},
   "outputs": [],
   "source": []
  },
  {
   "cell_type": "markdown",
   "metadata": {},
   "source": [
    "## 3.4.1 Binomial\n"
   ]
  },
  {
   "cell_type": "markdown",
   "metadata": {},
   "source": [
    "## 3.4.2 Geometric\n",
    "\n",
    "The number of trials needed in order to achieve your first success\n",
    "\n",
    "- [Geometric - sophia.org](https://app.sophia.org/spcc/introduction-to-statistics-2-challenge-3-4/2/7524/geometric-distribution-2)\n",
    "\n",
    "- [scipy.stats.geom](https://docs.scipy.org/doc/scipy/reference/generated/scipy.stats.geom.html)\n"
   ]
  },
  {
   "cell_type": "code",
   "execution_count": 44,
   "metadata": {},
   "outputs": [
    {
     "data": {
      "text/plain": [
       "0.03840000000000001"
      ]
     },
     "execution_count": 44,
     "metadata": {},
     "output_type": "execute_result"
    }
   ],
   "source": [
    "geom.pmf(4, p=0.60)"
   ]
  },
  {
   "cell_type": "markdown",
   "metadata": {},
   "source": [
    "## 3.4.3 Poisson\n"
   ]
  },
  {
   "cell_type": "code",
   "execution_count": 45,
   "metadata": {},
   "outputs": [
    {
     "data": {
      "text/plain": [
       "0.0645771625576095"
      ]
     },
     "execution_count": 45,
     "metadata": {},
     "output_type": "execute_result"
    }
   ],
   "source": [
    "poisson.pmf(7, mu=11)"
   ]
  },
  {
   "cell_type": "markdown",
   "metadata": {},
   "source": [
    "## 3.4.4\n",
    "\n",
    "Normal distribution approximation of the binomial distribution\n",
    "\n",
    "the probability of failure\n",
    "$q = 1 - p$\n",
    "\n",
    "mean = center of a binomial distribution\n",
    "$ \\mu_x = np $\n",
    "\n",
    "standard deviation = spread\n",
    "$ \\sigma_x = \\sqrt{npq} $\n"
   ]
  },
  {
   "cell_type": "code",
   "execution_count": 48,
   "metadata": {},
   "outputs": [
    {
     "name": "stdout",
     "output_type": "stream",
     "text": [
      "160.0\n",
      "96.0\n",
      "9.797958971132712\n"
     ]
    }
   ],
   "source": [
    "n = 400\n",
    "p = .4\n",
    "q = 1 - p\n",
    "\n",
    "mean = n*p\n",
    "variance = n*q*p\n",
    "st_dev = sqrt(variance)\n",
    "\n",
    "print(\n",
    "    mean,\n",
    "    variance,\n",
    "    st_dev,\n",
    "    sep=\"\\n\")"
   ]
  },
  {
   "cell_type": "code",
   "execution_count": 54,
   "metadata": {},
   "outputs": [
    {
     "name": "stdout",
     "output_type": "stream",
     "text": [
      "35.0\n",
      "28.874999999999996\n",
      "5.373546315051169\n"
     ]
    }
   ],
   "source": [
    "n = 200\n",
    "p = .175\n",
    "q = 1 - p\n",
    "\n",
    "mean = n*p\n",
    "variance = n*q*p\n",
    "st_dev = sqrt(variance)\n",
    "\n",
    "print(\n",
    "    mean,\n",
    "    variance,\n",
    "    st_dev,\n",
    "    sep=\"\\n\")"
   ]
  },
  {
   "cell_type": "code",
   "execution_count": 49,
   "metadata": {},
   "outputs": [
    {
     "data": {
      "text/plain": [
       "0.08192000000000002"
      ]
     },
     "execution_count": 49,
     "metadata": {},
     "output_type": "execute_result"
    }
   ],
   "source": [
    "geom(p=.2).pmf(5)"
   ]
  },
  {
   "cell_type": "code",
   "execution_count": 51,
   "metadata": {},
   "outputs": [
    {
     "data": {
      "text/plain": [
       "0.23"
      ]
     },
     "execution_count": 51,
     "metadata": {},
     "output_type": "execute_result"
    }
   ],
   "source": [
    "total = 104 + 200 + 120 + 230 + 240 + 106\n",
    "\n",
    "230 / total"
   ]
  },
  {
   "cell_type": "code",
   "execution_count": 52,
   "metadata": {},
   "outputs": [
    {
     "data": {
      "text/plain": [
       "0.01775147928994083"
      ]
     },
     "execution_count": 52,
     "metadata": {},
     "output_type": "execute_result"
    }
   ],
   "source": [
    "(4/52) * (12/52)"
   ]
  },
  {
   "cell_type": "code",
   "execution_count": 53,
   "metadata": {},
   "outputs": [
    {
     "data": {
      "text/plain": [
       "0.16666666666666666"
      ]
     },
     "execution_count": 53,
     "metadata": {},
     "output_type": "execute_result"
    }
   ],
   "source": [
    "1/6"
   ]
  },
  {
   "cell_type": "code",
   "execution_count": 56,
   "metadata": {},
   "outputs": [
    {
     "data": {
      "text/plain": [
       "0.77"
      ]
     },
     "execution_count": 56,
     "metadata": {},
     "output_type": "execute_result"
    }
   ],
   "source": [
    "1 - .23"
   ]
  },
  {
   "cell_type": "code",
   "execution_count": 59,
   "metadata": {},
   "outputs": [
    {
     "data": {
      "text/plain": [
       "0.22222222222222224"
      ]
     },
     "execution_count": 59,
     "metadata": {},
     "output_type": "execute_result"
    }
   ],
   "source": [
    ".1/.45"
   ]
  },
  {
   "cell_type": "code",
   "execution_count": 60,
   "metadata": {},
   "outputs": [
    {
     "data": {
      "text/plain": [
       "0.045454545454545456"
      ]
     },
     "execution_count": 60,
     "metadata": {},
     "output_type": "execute_result"
    }
   ],
   "source": [
    "3/12 * 2/11"
   ]
  },
  {
   "cell_type": "code",
   "execution_count": 63,
   "metadata": {},
   "outputs": [
    {
     "data": {
      "text/plain": [
       "17.333333333333332"
      ]
     },
     "execution_count": 63,
     "metadata": {},
     "output_type": "execute_result"
    }
   ],
   "source": [
    "40"
   ]
  },
  {
   "cell_type": "code",
   "execution_count": 64,
   "metadata": {},
   "outputs": [
    {
     "data": {
      "text/plain": [
       "0.10081881344492458"
      ]
     },
     "execution_count": 64,
     "metadata": {},
     "output_type": "execute_result"
    }
   ],
   "source": [
    "poisson(mu=3).pmf(5)"
   ]
  },
  {
   "cell_type": "code",
   "execution_count": 66,
   "metadata": {},
   "outputs": [
    {
     "data": {
      "text/plain": [
       "650.0"
      ]
     },
     "execution_count": 66,
     "metadata": {},
     "output_type": "execute_result"
    }
   ],
   "source": [
    "1/(1/26 * 1/25)"
   ]
  },
  {
   "cell_type": "code",
   "execution_count": 67,
   "metadata": {},
   "outputs": [
    {
     "data": {
      "text/plain": [
       "0.15"
      ]
     },
     "execution_count": 67,
     "metadata": {},
     "output_type": "execute_result"
    }
   ],
   "source": [
    "15 / sum([18, 20, 15, 17, 14, 16])"
   ]
  },
  {
   "cell_type": "code",
   "execution_count": 68,
   "metadata": {},
   "outputs": [
    {
     "data": {
      "text/plain": [
       "0.038461538461538464"
      ]
     },
     "execution_count": 68,
     "metadata": {},
     "output_type": "execute_result"
    }
   ],
   "source": [
    "2/52"
   ]
  },
  {
   "cell_type": "code",
   "execution_count": 69,
   "metadata": {},
   "outputs": [
    {
     "data": {
      "text/plain": [
       "17"
      ]
     },
     "execution_count": 69,
     "metadata": {},
     "output_type": "execute_result"
    }
   ],
   "source": [
    "sum([7, 5, 5])"
   ]
  },
  {
   "cell_type": "code",
   "execution_count": 70,
   "metadata": {},
   "outputs": [
    {
     "data": {
      "text/plain": [
       "0.5172413793103449"
      ]
     },
     "execution_count": 70,
     "metadata": {},
     "output_type": "execute_result"
    }
   ],
   "source": [
    "240 / sum([104, 120, 240])"
   ]
  }
 ],
 "metadata": {
  "kernelspec": {
   "display_name": "base_rise",
   "language": "python",
   "name": "python3"
  },
  "language_info": {
   "codemirror_mode": {
    "name": "ipython",
    "version": 3
   },
   "file_extension": ".py",
   "mimetype": "text/x-python",
   "name": "python",
   "nbconvert_exporter": "python",
   "pygments_lexer": "ipython3",
   "version": "3.11.4"
  }
 },
 "nbformat": 4,
 "nbformat_minor": 2
}
