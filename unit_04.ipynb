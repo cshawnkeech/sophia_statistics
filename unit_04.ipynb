{
 "cells": [
  {
   "cell_type": "markdown",
   "metadata": {},
   "source": [
    "# Unit 4\n"
   ]
  },
  {
   "cell_type": "code",
   "execution_count": 1,
   "metadata": {},
   "outputs": [],
   "source": [
    "import numpy as np\n",
    "\n",
    "import matplotlib.pyplot as plt\n",
    "from scipy.stats import (\n",
    "    geom,\n",
    "    percentileofscore,\n",
    "    poisson,\n",
    "    norm)\n",
    "from itertools import (\n",
    "    combinations\n",
    ")\n",
    "\n",
    "from math import (\n",
    "    sqrt\n",
    ")\n",
    "\n",
    "from fractions import Fraction\n",
    "from sklearn.linear_model import LinearRegression"
   ]
  },
  {
   "cell_type": "markdown",
   "metadata": {},
   "source": [
    "## 4.1.1 Scatterplots\n"
   ]
  },
  {
   "cell_type": "code",
   "execution_count": 2,
   "metadata": {},
   "outputs": [
    {
     "data": {
      "text/plain": [
       "750"
      ]
     },
     "execution_count": 2,
     "metadata": {},
     "output_type": "execute_result"
    }
   ],
   "source": [
    "sum([150, 250, 200, 150])"
   ]
  },
  {
   "cell_type": "markdown",
   "metadata": {},
   "source": [
    "## 4.1.2 Describing scatterplots\n",
    "\n",
    "form:\n",
    "\n",
    "- linear\n",
    "- non-linear\n",
    "- no association\n",
    "\n",
    "direction\n",
    "\n",
    "- positive (up and to the right)\n",
    "- negative (down to the right), variables go opposite directions\n",
    "\n",
    "  strength: how closely the variables are associated with some line or curve.\n"
   ]
  },
  {
   "cell_type": "markdown",
   "metadata": {},
   "source": [
    "## 4.1.3 Explanatory and response variables\n",
    "\n",
    "strong: greater than |0.8|\n",
    "moderate: between |0.5 and 0.8|\n",
    "weak: less than |0.5|\n"
   ]
  },
  {
   "cell_type": "code",
   "execution_count": null,
   "metadata": {},
   "outputs": [],
   "source": []
  },
  {
   "cell_type": "markdown",
   "metadata": {},
   "source": [
    "## 4.1.5 Calculating Correlation\n"
   ]
  },
  {
   "cell_type": "code",
   "execution_count": 3,
   "metadata": {},
   "outputs": [
    {
     "data": {
      "text/plain": [
       "array([[1.        , 0.32352941],\n",
       "       [0.32352941, 1.        ]])"
      ]
     },
     "execution_count": 3,
     "metadata": {},
     "output_type": "execute_result"
    }
   ],
   "source": [
    "a = [7, 9, 6, 8, 9]\n",
    "b = [6, 5, 5, 8, 7]\n",
    "\n",
    "np.corrcoef(a, b)"
   ]
  },
  {
   "cell_type": "markdown",
   "metadata": {},
   "source": [
    "## 4.2.1 Positive and negative correlations\n",
    "\n",
    "Negative Correlation The type of correlation present when two variables\n",
    "have a correlation coefficient generally less than or equal to -0.5.\n",
    "\n",
    "Non-linear Relationships Associations between two variables that can be\n",
    "modeled better with a curve than a line.\n",
    "\n",
    "Positive Correlation The type of correlation present when two variables\n",
    "have a correlation coefficient generally greater than or equal to 0.5.\n",
    "\n",
    "Relative Zero Correlation The type of correlation present when two\n",
    "variables have a correlation coefficient generally between -0.5 and 0.5.\n"
   ]
  },
  {
   "cell_type": "markdown",
   "metadata": {},
   "source": [
    "## $R^2$ the coefficient of determination\n",
    "\n",
    "a value that explains the percent of variation in the response variable\n",
    "that can be explained by a linear association with the explanatory\n",
    "variable. it is the square of the correlation coefficient.\n"
   ]
  },
  {
   "cell_type": "code",
   "execution_count": 4,
   "metadata": {},
   "outputs": [
    {
     "data": {
      "text/plain": [
       "0.39749213828703583"
      ]
     },
     "execution_count": 4,
     "metadata": {},
     "output_type": "execute_result"
    }
   ],
   "source": [
    "sqrt(0.158)"
   ]
  },
  {
   "cell_type": "markdown",
   "metadata": {},
   "source": [
    "## 4.2.3 outliers & influential points\n",
    "\n",
    "influential points: if removed, significantly changes the statistical\n",
    "measure\n"
   ]
  },
  {
   "cell_type": "markdown",
   "metadata": {},
   "source": [
    "## 4.2.7 Establishing causality\n",
    "\n",
    "Study design must meet:\n",
    "\n",
    "- Consistency: correlation remains while other factors vary\n",
    "- control: similar to a control group\n",
    "- correlation: look for evidence that larger amounts of suspected cause\n",
    "  cause larger effect\n",
    "- consideration of alternatives: check for other possible causes\n",
    "- connection: physical mechanism for cause and effect\n"
   ]
  },
  {
   "cell_type": "code",
   "execution_count": 5,
   "metadata": {},
   "outputs": [
    {
     "name": "stdout",
     "output_type": "stream",
     "text": [
      "[37.] [[-1.]]\n"
     ]
    }
   ],
   "source": [
    "# from sklearn.linear_model import LinearRegression\n",
    "\n",
    "X = np.array([5, 10, 12, 15]).reshape(-1, 1)\n",
    "y = np.array([32, 27, 25, 22]).reshape(-1, 1)\n",
    "\n",
    "reg = LinearRegression().fit(X, y)\n",
    "reg.get_params()\n",
    "\n",
    "print(\n",
    "    reg.intercept_,\n",
    "    reg.coef_\n",
    ")"
   ]
  },
  {
   "cell_type": "markdown",
   "metadata": {},
   "source": [
    "## 4.3.3 residuals\n",
    "\n",
    "residual = actual response - predicted response\n",
    "\n",
    "- [get residuals from\n",
    "  Linear_Regression](https://stackoverflow.com/a/55096194)\n"
   ]
  },
  {
   "cell_type": "code",
   "execution_count": 6,
   "metadata": {},
   "outputs": [
    {
     "data": {
      "text/plain": [
       "0.5"
      ]
     },
     "execution_count": 6,
     "metadata": {},
     "output_type": "execute_result"
    }
   ],
   "source": [
    "def y_hat(x):\n",
    "    return 0.3 + 0.12*x\n",
    "\n",
    "\n",
    "2 - y_hat(10)"
   ]
  },
  {
   "cell_type": "code",
   "execution_count": 7,
   "metadata": {},
   "outputs": [
    {
     "data": {
      "text/plain": [
       "-9.799999999999955"
      ]
     },
     "execution_count": 7,
     "metadata": {},
     "output_type": "execute_result"
    }
   ],
   "source": [
    "def y_hat(x):\n",
    "    return -260 + 6.6*x\n",
    "\n",
    "\n",
    "179 - y_hat(68)"
   ]
  },
  {
   "cell_type": "markdown",
   "metadata": {},
   "source": [
    "## 4.3.5 lines of best fit\n",
    "\n",
    "Slope of least squares line:\n",
    "\n",
    "$$\n",
    "\n",
    "b_1 = r \\cdot \\frac {s_y}{s_x}\n",
    "$$\n",
    "\n",
    "s_y = standard deviation of y data\n",
    "s_x = standard deviation of x data\n",
    "\n",
    "b_1 = slope\n",
    "r = correlation (sqrt of r^2)\n"
   ]
  },
  {
   "cell_type": "code",
   "execution_count": 8,
   "metadata": {},
   "outputs": [
    {
     "data": {
      "text/plain": [
       "0.351921875"
      ]
     },
     "execution_count": 8,
     "metadata": {},
     "output_type": "execute_result"
    }
   ],
   "source": [
    "r = 0.223\n",
    "s_y = 3.03\n",
    "s_x = 1.92\n",
    "b_1 = r * (s_y / s_x)\n",
    "\n",
    "b_1"
   ]
  },
  {
   "cell_type": "code",
   "execution_count": 9,
   "metadata": {},
   "outputs": [
    {
     "data": {
      "text/plain": [
       "10.914240625000001"
      ]
     },
     "execution_count": 9,
     "metadata": {},
     "output_type": "execute_result"
    }
   ],
   "source": [
    "y_mean = 13.8\n",
    "x_mean = 8.2\n",
    "b_0 = y_mean - b_1 * x_mean\n",
    "b_0"
   ]
  },
  {
   "cell_type": "code",
   "execution_count": 10,
   "metadata": {},
   "outputs": [
    {
     "name": "stdout",
     "output_type": "stream",
     "text": [
      "[38.46961326] [[-1.45856354]]\n"
     ]
    }
   ],
   "source": [
    "# from sklearn.linear_model import LinearRegression\n",
    "\n",
    "X = np.array([5, 9, 13, 17, 20]).reshape(-1, 1)\n",
    "y = np.array([32, 27, 15, 14, 11]).reshape(-1, 1)\n",
    "\n",
    "reg = LinearRegression().fit(X, y)\n",
    "reg.get_params()\n",
    "\n",
    "print(\n",
    "    reg.intercept_,\n",
    "    reg.coef_\n",
    ")"
   ]
  },
  {
   "cell_type": "markdown",
   "metadata": {},
   "source": [
    "## 4.3.8 Predictions from best fit lines\n"
   ]
  },
  {
   "cell_type": "code",
   "execution_count": 11,
   "metadata": {},
   "outputs": [],
   "source": [
    "def y_hat(x):\n",
    "    return 0.1 + 3.1*x"
   ]
  },
  {
   "cell_type": "code",
   "execution_count": 12,
   "metadata": {},
   "outputs": [
    {
     "data": {
      "text/plain": [
       "93.1"
      ]
     },
     "execution_count": 12,
     "metadata": {},
     "output_type": "execute_result"
    }
   ],
   "source": [
    "y_hat(30)"
   ]
  },
  {
   "cell_type": "code",
   "execution_count": 13,
   "metadata": {},
   "outputs": [
    {
     "name": "stdout",
     "output_type": "stream",
     "text": [
      "[3.27319588] [[0.06038292]]\n"
     ]
    }
   ],
   "source": [
    "# from sklearn.linear_model import LinearRegression\n",
    "\n",
    "X = np.array([2.1, 70]).reshape(-1, 1)\n",
    "y = np.array([3.4, 7.5]).reshape(-1, 1)\n",
    "\n",
    "reg = LinearRegression().fit(X, y)\n",
    "reg.get_params()\n",
    "\n",
    "print(\n",
    "    reg.intercept_,\n",
    "    reg.coef_\n",
    ")"
   ]
  },
  {
   "cell_type": "code",
   "execution_count": 14,
   "metadata": {},
   "outputs": [
    {
     "data": {
      "text/plain": [
       "0.8822131261775694"
      ]
     },
     "execution_count": 14,
     "metadata": {},
     "output_type": "execute_result"
    }
   ],
   "source": [
    "sqrt(0.7783)"
   ]
  },
  {
   "cell_type": "code",
   "execution_count": 15,
   "metadata": {},
   "outputs": [
    {
     "data": {
      "text/plain": [
       "626.3"
      ]
     },
     "execution_count": 15,
     "metadata": {},
     "output_type": "execute_result"
    }
   ],
   "source": [
    "def y_hat(x):\n",
    "    return 76.82 * x + 88.56\n",
    "\n",
    "\n",
    "y_hat(7)"
   ]
  },
  {
   "cell_type": "code",
   "execution_count": 16,
   "metadata": {},
   "outputs": [
    {
     "data": {
      "text/plain": [
       "array([[1., 1.],\n",
       "       [1., 1.]])"
      ]
     },
     "execution_count": 16,
     "metadata": {},
     "output_type": "execute_result"
    }
   ],
   "source": [
    "g = [2, 6, 5, 4, 1]\n",
    "r = [6, 14, 12, 10, 4]\n",
    "np.corrcoef(r, g)"
   ]
  }
 ],
 "metadata": {
  "kernelspec": {
   "display_name": "base_rise",
   "language": "python",
   "name": "python3"
  },
  "language_info": {
   "codemirror_mode": {
    "name": "ipython",
    "version": 3
   },
   "file_extension": ".py",
   "mimetype": "text/x-python",
   "name": "python",
   "nbconvert_exporter": "python",
   "pygments_lexer": "ipython3",
   "version": "3.11.4"
  }
 },
 "nbformat": 4,
 "nbformat_minor": 2
}
