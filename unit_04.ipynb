{
 "cells": [
  {
   "cell_type": "markdown",
   "metadata": {},
   "source": [
    "# Unit 4\n"
   ]
  },
  {
   "cell_type": "code",
   "execution_count": 1,
   "metadata": {},
   "outputs": [],
   "source": [
    "import numpy as np\n",
    "\n",
    "import matplotlib.pyplot as plt\n",
    "from scipy.stats import (\n",
    "    geom,\n",
    "    percentileofscore,\n",
    "    poisson,\n",
    "    norm)\n",
    "from itertools import (\n",
    "    combinations\n",
    ")\n",
    "\n",
    "from math import (\n",
    "    sqrt\n",
    ")\n",
    "\n",
    "from fractions import Fraction"
   ]
  },
  {
   "cell_type": "markdown",
   "metadata": {},
   "source": [
    "## 4.1.1 Scatterplots\n"
   ]
  },
  {
   "cell_type": "code",
   "execution_count": 3,
   "metadata": {},
   "outputs": [
    {
     "data": {
      "text/plain": [
       "750"
      ]
     },
     "execution_count": 3,
     "metadata": {},
     "output_type": "execute_result"
    }
   ],
   "source": [
    "sum([150, 250, 200, 150])"
   ]
  },
  {
   "cell_type": "markdown",
   "metadata": {},
   "source": [
    "## 4.1.2 Describing scatterplots\n",
    "\n",
    "form:\n",
    "\n",
    "- linear\n",
    "- non-linear\n",
    "- no association\n",
    "\n",
    "direction\n",
    "\n",
    "- positive (up and to the right)\n",
    "- negative (down to the right), variables go opposite directions\n",
    "\n",
    "  strength: how closely the variables are associated with some line or curve.\n"
   ]
  },
  {
   "cell_type": "markdown",
   "metadata": {},
   "source": [
    "## 4.1.3 Explanatory and response variables\n",
    "\n",
    "strong: greater than |0.8|\n",
    "moderate: between |0.5 and 0.8|\n",
    "weak: less than |0.5|\n"
   ]
  },
  {
   "cell_type": "code",
   "execution_count": null,
   "metadata": {},
   "outputs": [],
   "source": []
  },
  {
   "cell_type": "markdown",
   "metadata": {},
   "source": [
    "## 4.1.5 Calculating Correlation\n"
   ]
  },
  {
   "cell_type": "code",
   "execution_count": 7,
   "metadata": {},
   "outputs": [
    {
     "data": {
      "text/plain": [
       "array([[1.        , 0.32352941],\n",
       "       [0.32352941, 1.        ]])"
      ]
     },
     "execution_count": 7,
     "metadata": {},
     "output_type": "execute_result"
    }
   ],
   "source": [
    "a = [7, 9, 6, 8, 9]\n",
    "b = [6, 5, 5, 8, 7]\n",
    "\n",
    "np.corrcoef(a, b)"
   ]
  },
  {
   "cell_type": "markdown",
   "metadata": {},
   "source": [
    "## 4.2.1 Positive and negative correlations\n",
    "\n",
    "Negative Correlation The type of correlation present when two variables\n",
    "have a correlation coefficient generally less than or equal to -0.5.\n",
    "\n",
    "Non-linear Relationships Associations between two variables that can be\n",
    "modeled better with a curve than a line.\n",
    "\n",
    "Positive Correlation The type of correlation present when two variables\n",
    "have a correlation coefficient generally greater than or equal to 0.5.\n",
    "\n",
    "Relative Zero Correlation The type of correlation present when two\n",
    "variables have a correlation coefficient generally between -0.5 and 0.5.\n"
   ]
  },
  {
   "cell_type": "markdown",
   "metadata": {},
   "source": [
    "## $R^2$ the coefficient of determination\n",
    "\n",
    "a value that explains the percent of variation in the response variable\n",
    "that can be explained by a linear association with the explanatory\n",
    "variable. it is the square of the correlation coefficient.\n"
   ]
  },
  {
   "cell_type": "code",
   "execution_count": 8,
   "metadata": {},
   "outputs": [
    {
     "data": {
      "text/plain": [
       "0.39749213828703583"
      ]
     },
     "execution_count": 8,
     "metadata": {},
     "output_type": "execute_result"
    }
   ],
   "source": [
    "sqrt(0.158)"
   ]
  },
  {
   "cell_type": "markdown",
   "metadata": {},
   "source": [
    "## 4.2.3 outliers & influential points\n",
    "\n",
    "influential points: if removed, significantly changes the statistical\n",
    "measure\n"
   ]
  },
  {
   "cell_type": "markdown",
   "metadata": {},
   "source": [
    "## 4.2.7 Establishing causality\n",
    "\n",
    "Study design must meet:\n",
    "\n",
    "- Consistency: correlation remains while other factors vary\n",
    "- control: similar to a control group\n",
    "- correlation: look for evidence that larger amounts of suspected cause\n",
    "  cause larger effect\n",
    "- consideration of alternatives: check for other possible causes\n",
    "- connection: physical mechanism for cause and effect\n"
   ]
  }
 ],
 "metadata": {
  "kernelspec": {
   "display_name": "base_rise",
   "language": "python",
   "name": "python3"
  },
  "language_info": {
   "codemirror_mode": {
    "name": "ipython",
    "version": 3
   },
   "file_extension": ".py",
   "mimetype": "text/x-python",
   "name": "python",
   "nbconvert_exporter": "python",
   "pygments_lexer": "ipython3",
   "version": "3.11.4"
  }
 },
 "nbformat": 4,
 "nbformat_minor": 2
}
